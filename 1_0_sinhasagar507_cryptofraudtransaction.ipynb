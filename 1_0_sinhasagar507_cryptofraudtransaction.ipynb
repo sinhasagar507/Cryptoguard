{
  "nbformat": 4,
  "nbformat_minor": 0,
  "metadata": {
    "colab": {
      "provenance": [],
      "gpuType": "T4"
    },
    "kernelspec": {
      "name": "python3",
      "display_name": "Python 3"
    },
    "language_info": {
      "name": "python"
    },
    "accelerator": "GPU"
  },
  "cells": [
    {
      "cell_type": "markdown",
      "source": [
        "Graph Neural Networks for Fraud Detection in Crypto Transactions"
      ],
      "metadata": {
        "id": "C8WY40LlFwIW"
      }
    },
    {
      "cell_type": "markdown",
      "source": [
        "---\n",
        "# **Table of Contents**\n",
        "---\n",
        "1. [**Introduction**](#Section1)<br>\n",
        "2. [**Problem Statement**](#Section2)<br>\n",
        "2. [**Setup and Libraries**](#Section2)<br>\n",
        "  3.1 [**Installing Libraries**](#Section31)<br>\n",
        "  3.2 [**Upgrading Libraries**](#Section32)<br>\n",
        "  3.3 [**Importing Libraries**](#Section33)<br>\n",
        "4. [**Data Acquisition and Description**](#Section4)<br>\n",
        "5. [**Data Pre-Processing**](#Section5)<br>\n",
        "6. [**Model the data**](#Section6)<br>\n",
        "7. [**Summarization**](#Section7)</br>\n",
        "  7.1 [**Conclusion**](#Section71)</br>\n",
        "  7.2 [**Actionable Insights**](#Section72)</br>"
      ],
      "metadata": {
        "id": "pEdYnNCWGTfe"
      }
    },
    {
      "cell_type": "markdown",
      "source": [
        "---\n",
        "<a name = Section1></a>\n",
        "# **1. Introduction**\n",
        "---\n",
        "\n",
        "In this notebook, we will explore the use of Graph Neural Networks (GNNs) for fraud detection in cryptocurrency transactions. We will follow a structured workflow that includes data acquisition, preprocessing, profiling, exploratory data analysis, model building, and evaluation.\n",
        "\n",
        "<center><img width=50% height=100% src=\"https://miro.medium.com/v2/resize:fit:1400/format:webp/1*DEG-vN2W7a0uui4UnfuYJA.png\" alt=\"https://imgs.search.brave.com/nxu-A1jWLn-ErwsOyIIHILMxKlPh9n-OGY533O3bxak/rs:fit:860:0:0:0/g:ce/aHR0cHM6Ly93ZWJo/b3N0aW5nbWVkaWEu/bmV0L3dwLWNvbnRl/bnQvdXBsb2Fkcy8y/MDE4LzAxL2h0dHAt/ZXJyb3ItNDA0LW5v/dC1mb3VuZC5wbmc\"></center>\n"
      ],
      "metadata": {
        "id": "Tvn5x4LFHzK2"
      }
    },
    {
      "cell_type": "markdown",
      "source": [
        "---\n",
        "<a name = Section2></a>\n",
        "# **2. Problem Statement**\n",
        "---\n",
        "- **Growing concern**: Fraudulent activities in cryptocurrency transactions are on the rise due to the anonymous and decentralized nature of blockchain systems.\n",
        "- **Limitations of traditional methods**: Existing fraud detection approaches are struggling to keep up with the evolving tactics used by cybercriminals in cryptocurrency networks.\n",
        "- **Objective**: This project aims to detect fraudulent cryptocurrency transactions using Graph Neural Networks (GNNs) by representing users and transactions as nodes and edges in a graph.\n",
        "- **Graph-based approach**: GNN models such as Graph Convolutional Networks (GCNs) and Graph Attention Networks (GATs) are utilized to capture complex transactional relationships and patterns within the graph structure.\n",
        "- **Goal**: The project seeks to improve fraud detection accuracy by enhancing both precision and recall in identifying fraudulent activities in cryptocurrency ecosystems.\n",
        "\n"
      ],
      "metadata": {
        "id": "uVOllcpSLWtE"
      }
    },
    {
      "cell_type": "markdown",
      "source": [
        "---\n",
        "<a name = Section3></a>\n",
        "# **3. Installing Libraries**\n",
        "---\n"
      ],
      "metadata": {
        "id": "_f9Kl4b-Lvqo"
      }
    },
    {
      "cell_type": "markdown",
      "source": [
        "<a name = Section31></a>\n",
        "## **3.1 Installing Libraries**\n",
        "\n"
      ],
      "metadata": {
        "id": "VLUu6UTmOl5x"
      }
    },
    {
      "cell_type": "code",
      "execution_count": 3,
      "metadata": {
        "id": "BZ5Sq6Vj2D1u",
        "colab": {
          "base_uri": "https://localhost:8080/",
          "height": 0
        },
        "outputId": "71209614-00d5-4024-93ae-fd055540916d"
      },
      "outputs": [
        {
          "output_type": "stream",
          "name": "stdout",
          "text": [
            "Requirement already satisfied: torch_geometric in /usr/local/lib/python3.10/dist-packages (2.6.0)\n",
            "Requirement already satisfied: aiohttp in /usr/local/lib/python3.10/dist-packages (from torch_geometric) (3.10.5)\n",
            "Requirement already satisfied: fsspec in /usr/local/lib/python3.10/dist-packages (from torch_geometric) (2024.6.1)\n",
            "Requirement already satisfied: jinja2 in /usr/local/lib/python3.10/dist-packages (from torch_geometric) (3.1.4)\n",
            "Requirement already satisfied: numpy in /usr/local/lib/python3.10/dist-packages (from torch_geometric) (1.26.4)\n",
            "Requirement already satisfied: psutil>=5.8.0 in /usr/local/lib/python3.10/dist-packages (from torch_geometric) (5.9.5)\n",
            "Requirement already satisfied: pyparsing in /usr/local/lib/python3.10/dist-packages (from torch_geometric) (3.1.4)\n",
            "Requirement already satisfied: requests in /usr/local/lib/python3.10/dist-packages (from torch_geometric) (2.32.3)\n",
            "Requirement already satisfied: tqdm in /usr/local/lib/python3.10/dist-packages (from torch_geometric) (4.66.5)\n",
            "Requirement already satisfied: aiohappyeyeballs>=2.3.0 in /usr/local/lib/python3.10/dist-packages (from aiohttp->torch_geometric) (2.4.0)\n",
            "Requirement already satisfied: aiosignal>=1.1.2 in /usr/local/lib/python3.10/dist-packages (from aiohttp->torch_geometric) (1.3.1)\n",
            "Requirement already satisfied: attrs>=17.3.0 in /usr/local/lib/python3.10/dist-packages (from aiohttp->torch_geometric) (24.2.0)\n",
            "Requirement already satisfied: frozenlist>=1.1.1 in /usr/local/lib/python3.10/dist-packages (from aiohttp->torch_geometric) (1.4.1)\n",
            "Requirement already satisfied: multidict<7.0,>=4.5 in /usr/local/lib/python3.10/dist-packages (from aiohttp->torch_geometric) (6.1.0)\n",
            "Requirement already satisfied: yarl<2.0,>=1.0 in /usr/local/lib/python3.10/dist-packages (from aiohttp->torch_geometric) (1.11.1)\n",
            "Requirement already satisfied: async-timeout<5.0,>=4.0 in /usr/local/lib/python3.10/dist-packages (from aiohttp->torch_geometric) (4.0.3)\n",
            "Requirement already satisfied: MarkupSafe>=2.0 in /usr/local/lib/python3.10/dist-packages (from jinja2->torch_geometric) (2.1.5)\n",
            "Requirement already satisfied: charset-normalizer<4,>=2 in /usr/local/lib/python3.10/dist-packages (from requests->torch_geometric) (3.3.2)\n",
            "Requirement already satisfied: idna<4,>=2.5 in /usr/local/lib/python3.10/dist-packages (from requests->torch_geometric) (3.8)\n",
            "Requirement already satisfied: urllib3<3,>=1.21.1 in /usr/local/lib/python3.10/dist-packages (from requests->torch_geometric) (2.0.7)\n",
            "Requirement already satisfied: certifi>=2017.4.17 in /usr/local/lib/python3.10/dist-packages (from requests->torch_geometric) (2024.8.30)\n",
            "Requirement already satisfied: typing-extensions>=4.1.0 in /usr/local/lib/python3.10/dist-packages (from multidict<7.0,>=4.5->aiohttp->torch_geometric) (4.12.2)\n"
          ]
        }
      ],
      "source": [
        "!pip install torch_geometric"
      ]
    },
    {
      "cell_type": "markdown",
      "source": [
        "<a name = Section32></a>\n",
        "## **3.2 Upgrading Libraries**"
      ],
      "metadata": {
        "id": "B69xWjY3qNOV"
      }
    },
    {
      "cell_type": "markdown",
      "source": [
        "\n",
        "- **After upgrading** the libraries, you need to **restart the runtime** to make the libraries in sync.\n",
        "\n",
        "- Make sure not to execute the cell under Installing Libraries and Upgrading Libraries again after restarting the runtime."
      ],
      "metadata": {
        "id": "XJ6K2So1Oug7"
      }
    },
    {
      "cell_type": "code",
      "source": [
        "!pip install --upgrade torch_geometric"
      ],
      "metadata": {
        "colab": {
          "base_uri": "https://localhost:8080/",
          "height": 0
        },
        "id": "s92fvekpN-37",
        "outputId": "9daca273-3365-47d5-89ca-80359302240c"
      },
      "execution_count": 1,
      "outputs": [
        {
          "output_type": "stream",
          "name": "stdout",
          "text": [
            "Collecting torch_geometric\n",
            "  Downloading torch_geometric-2.6.0-py3-none-any.whl.metadata (63 kB)\n",
            "\u001b[?25l     \u001b[90m━━━━━━━━━━━━━━━━━━━━━━━━━━━━━━━━━━━━━━━━\u001b[0m \u001b[32m0.0/63.1 kB\u001b[0m \u001b[31m?\u001b[0m eta \u001b[36m-:--:--\u001b[0m\r\u001b[2K     \u001b[90m━━━━━━━━━━━━━━━━━━━━━━━━━━━━━━━━━━━━━━━━\u001b[0m \u001b[32m63.1/63.1 kB\u001b[0m \u001b[31m2.7 MB/s\u001b[0m eta \u001b[36m0:00:00\u001b[0m\n",
            "\u001b[?25hRequirement already satisfied: aiohttp in /usr/local/lib/python3.10/dist-packages (from torch_geometric) (3.10.5)\n",
            "Requirement already satisfied: fsspec in /usr/local/lib/python3.10/dist-packages (from torch_geometric) (2024.6.1)\n",
            "Requirement already satisfied: jinja2 in /usr/local/lib/python3.10/dist-packages (from torch_geometric) (3.1.4)\n",
            "Requirement already satisfied: numpy in /usr/local/lib/python3.10/dist-packages (from torch_geometric) (1.26.4)\n",
            "Requirement already satisfied: psutil>=5.8.0 in /usr/local/lib/python3.10/dist-packages (from torch_geometric) (5.9.5)\n",
            "Requirement already satisfied: pyparsing in /usr/local/lib/python3.10/dist-packages (from torch_geometric) (3.1.4)\n",
            "Requirement already satisfied: requests in /usr/local/lib/python3.10/dist-packages (from torch_geometric) (2.32.3)\n",
            "Requirement already satisfied: tqdm in /usr/local/lib/python3.10/dist-packages (from torch_geometric) (4.66.5)\n",
            "Requirement already satisfied: aiohappyeyeballs>=2.3.0 in /usr/local/lib/python3.10/dist-packages (from aiohttp->torch_geometric) (2.4.0)\n",
            "Requirement already satisfied: aiosignal>=1.1.2 in /usr/local/lib/python3.10/dist-packages (from aiohttp->torch_geometric) (1.3.1)\n",
            "Requirement already satisfied: attrs>=17.3.0 in /usr/local/lib/python3.10/dist-packages (from aiohttp->torch_geometric) (24.2.0)\n",
            "Requirement already satisfied: frozenlist>=1.1.1 in /usr/local/lib/python3.10/dist-packages (from aiohttp->torch_geometric) (1.4.1)\n",
            "Requirement already satisfied: multidict<7.0,>=4.5 in /usr/local/lib/python3.10/dist-packages (from aiohttp->torch_geometric) (6.1.0)\n",
            "Requirement already satisfied: yarl<2.0,>=1.0 in /usr/local/lib/python3.10/dist-packages (from aiohttp->torch_geometric) (1.11.1)\n",
            "Requirement already satisfied: async-timeout<5.0,>=4.0 in /usr/local/lib/python3.10/dist-packages (from aiohttp->torch_geometric) (4.0.3)\n",
            "Requirement already satisfied: MarkupSafe>=2.0 in /usr/local/lib/python3.10/dist-packages (from jinja2->torch_geometric) (2.1.5)\n",
            "Requirement already satisfied: charset-normalizer<4,>=2 in /usr/local/lib/python3.10/dist-packages (from requests->torch_geometric) (3.3.2)\n",
            "Requirement already satisfied: idna<4,>=2.5 in /usr/local/lib/python3.10/dist-packages (from requests->torch_geometric) (3.8)\n",
            "Requirement already satisfied: urllib3<3,>=1.21.1 in /usr/local/lib/python3.10/dist-packages (from requests->torch_geometric) (2.0.7)\n",
            "Requirement already satisfied: certifi>=2017.4.17 in /usr/local/lib/python3.10/dist-packages (from requests->torch_geometric) (2024.8.30)\n",
            "Requirement already satisfied: typing-extensions>=4.1.0 in /usr/local/lib/python3.10/dist-packages (from multidict<7.0,>=4.5->aiohttp->torch_geometric) (4.12.2)\n",
            "Downloading torch_geometric-2.6.0-py3-none-any.whl (1.1 MB)\n",
            "\u001b[2K   \u001b[90m━━━━━━━━━━━━━━━━━━━━━━━━━━━━━━━━━━━━━━━━\u001b[0m \u001b[32m1.1/1.1 MB\u001b[0m \u001b[31m25.4 MB/s\u001b[0m eta \u001b[36m0:00:00\u001b[0m\n",
            "\u001b[?25hInstalling collected packages: torch_geometric\n",
            "Successfully installed torch_geometric-2.6.0\n"
          ]
        }
      ]
    },
    {
      "cell_type": "markdown",
      "source": [
        "<a name = Section33></a>\n",
        "## **3.3 Upgrading Libraries**"
      ],
      "metadata": {
        "id": "EuzEOyCtd_G5"
      }
    },
    {
      "cell_type": "code",
      "source": [
        "# Import necessary libraries\n",
        "\n",
        "import os  # Provides a way of using operating system dependent functionality like file system operations\n",
        "import copy  # Used to make deep or shallow copies of objects, useful when dealing with mutable objects in graphs\n",
        "import torch  # Core library for building and training deep learning models (PyTorch framework)\n",
        "import warnings  # Handles warnings in the script, allowing us to suppress or display specific types of warnings\n",
        "\n",
        "import numpy as np  # Fundamental package for numerical computations in Python, especially for working with arrays and matrices\n",
        "import pandas as pd  # Provides powerful data structures like DataFrames for handling and analyzing structured data\n",
        "\n",
        "import networkx as nx  # Library for creating, analyzing, and manipulating complex networks and graph structures\n",
        "\n",
        "import seaborn as sns  # Statistical data visualization library built on top of matplotlib\n",
        "import matplotlib.pyplot as plt  # Low-level plotting library used to create static, animated, or interactive plots\n",
        "\n",
        "# Sklearn is widely used for machine learning algorithms and performance metrics\n",
        "from sklearn.metrics import confusion_matrix, classification_report  # Metrics for evaluating the classification performance\n",
        "from sklearn.model_selection import train_test_split  # Utility to split datasets into training and testing sets\n",
        "\n",
        "# PyTorch Geometric modules:\n",
        "from torch_geometric.utils import to_networkx  # Converts a PyTorch Geometric graph into a NetworkX graph object for visualization\n",
        "from torch_geometric.data import Data, DataLoader  # Data structure for storing graph data and DataLoader for batching the graph data\n",
        "\n",
        "# PyTorch Neural Network Modules:\n",
        "from torch.nn import Linear, Dropout  # Linear (fully​ connected neural network)\n",
        "\n",
        "import torch.nn.functional as F  # Provides various neural network functions (like ReLU, softmax, etc.) and loss functions\n",
        "from torch_geometric.nn import GCNConv, GATv2Conv  # Graph Convolutional Network (GCN) and Graph Attention Network (GAT) layers"
      ],
      "metadata": {
        "id": "sUJkNtfCfdTq"
      },
      "execution_count": 2,
      "outputs": []
    },
    {
      "cell_type": "code",
      "source": [
        "# Check for GPU device\n",
        "print(torch.cuda.is_available())  # Should return True if a GPU is available\n",
        "print(torch.cuda.device_count())  # Should return the number of GPUs available\n",
        "print(torch.cuda.current_device())  # Should return the index of the current device\n",
        "print(torch.cuda.get_device_name(0))  # Should return the name of the GPU"
      ],
      "metadata": {
        "colab": {
          "base_uri": "https://localhost:8080/",
          "height": 0
        },
        "id": "g90tpzYJZ0Ee",
        "outputId": "03ea282e-4a6c-4c64-8c77-1edea053e4e6"
      },
      "execution_count": 5,
      "outputs": [
        {
          "output_type": "stream",
          "name": "stdout",
          "text": [
            "True\n",
            "1\n",
            "0\n",
            "Tesla T4\n"
          ]
        }
      ]
    },
    {
      "cell_type": "markdown",
      "source": [
        "---\n",
        "<a name = Section4></a>\n",
        "# **4. Data Acquisition & Description**\n",
        "---\n"
      ],
      "metadata": {
        "id": "m3efLzxodmiv"
      }
    },
    {
      "cell_type": "code",
      "source": [
        "from torch_geometric.datasets import EllipticBitcoinDataset\n",
        "dataset = EllipticBitcoinDataset(root='./data/elliptic-bitcoin-dataset')"
      ],
      "metadata": {
        "colab": {
          "base_uri": "https://localhost:8080/",
          "height": 0
        },
        "id": "iNzDiNYbgLKm",
        "outputId": "25d145c0-af50-47cf-8e93-647ae34a624b"
      },
      "execution_count": 3,
      "outputs": [
        {
          "output_type": "stream",
          "name": "stderr",
          "text": [
            "Downloading https://data.pyg.org/datasets/elliptic/elliptic_txs_features.csv.zip\n",
            "Downloading https://data.pyg.org/datasets/elliptic/elliptic_txs_edgelist.csv.zip\n",
            "Downloading https://data.pyg.org/datasets/elliptic/elliptic_txs_classes.csv.zip\n",
            "Processing...\n",
            "Done!\n"
          ]
        }
      ]
    },
    {
      "cell_type": "code",
      "source": [
        "df_features = pd.read_csv('/content/data/elliptic-bitcoin-dataset/raw/elliptic_txs_features.csv', header=None)\n",
        "df_edges = pd.read_csv(\"/content/data/elliptic-bitcoin-dataset/raw/elliptic_txs_edgelist.csv\")\n",
        "df_classes =  pd.read_csv(\"/content/data/elliptic-bitcoin-dataset/raw/elliptic_txs_classes.csv\")\n",
        "df_classes['class'] = df_classes['class'].map({'unknown': 2, '1': 1, '2': 0})"
      ],
      "metadata": {
        "id": "jA_G1HfBg5nj"
      },
      "execution_count": 4,
      "outputs": []
    },
    {
      "cell_type": "markdown",
      "source": [
        "---\n",
        "  4.1 Data Description\n",
        "---  \n",
        "The Elliptic Data Set associates Bitcoin transactions with real-world entities, categorizing them into either licit groups (such as exchanges, wallet providers, miners, and other legal services) or illicit groups (including scams, malware, terrorist organizations, ransomware, and Ponzi schemes). The primary objective of the dataset is to classify nodes in the transaction graph as either licit or illicit based on their associated activities.\n",
        "\n",
        "\n",
        "**Citation**\n",
        "- Elliptic, www.elliptic.co.\n",
        "- M. Weber, G. Domeniconi, J. Chen, D. K. I. Weidele, C. Bellei, T. Robinson, C. E. Leiserson, \"Anti-Money Laundering in Bitcoin: Experimenting with Graph Convolutional Networks for Financial Forensics\", KDD ’19 Workshop on Anomaly Detection in Finance, August 2019, Anchorage, AK, USA.\n",
        "\n",
        "**Content**\n",
        "- This dataset, anonymized for privacy, represents a transaction graph derived from the Bitcoin blockchain. Each node corresponds to a transaction, while edges depict the flow of Bitcoins between transactions. Every node is characterized by 166 features and is labeled as originating from either a “licit”, “illicit”, or “unknown” entity.\n",
        "\n",
        "**Nodes and Edges**\n",
        "- Each node in the dataset is linked to 166 features, although the exact details of these features cannot be disclosed due to intellectual property constraints. A time step is also associated with each node, indicating when the transaction was broadcasted to the Bitcoin network. These time steps range from 1 to 49, spaced approximately two weeks apart. Within each time step, transactions form a single connected component, where all transactions occurred within a time span of less than three hours. Importantly, there are no connections (edges) between nodes across different time steps.\n",
        "\n",
        "- The first 94 features capture local details about each transaction, such as the time step, the number of inputs and outputs, transaction fees, output volume, and summary statistics like the average BTC received or spent by the inputs/outputs, as well as the average number of incoming and outgoing transactions linked to them. The remaining 72 features are aggregated metrics derived from transactions that are one-hop away from the central node, including the maximum, minimum, standard deviation, and correlation coefficients of neighboring transactions for similar attributes, such as the number of inputs/outputs and transaction fees."
      ],
      "metadata": {
        "id": "6YfmkrQjpj8P"
      }
    },
    {
      "cell_type": "markdown",
      "source": [
        "---\n",
        "  4.2 Data Information\n",
        "---  \n",
        "  - In this section I will get information about the data and check for some observations"
      ],
      "metadata": {
        "id": "FlXh70XioHd_"
      }
    },
    {
      "cell_type": "code",
      "source": [
        "# here column 0 stands for node_id, column 1 is the time axis\n",
        "df_features.head()"
      ],
      "metadata": {
        "colab": {
          "base_uri": "https://localhost:8080/",
          "height": 256
        },
        "id": "kIcZODLXodUV",
        "outputId": "2b9e4608-bf88-4024-81c3-707d356e1b5b"
      },
      "execution_count": 30,
      "outputs": [
        {
          "output_type": "execute_result",
          "data": {
            "text/plain": [
              "         0    1         2         3         4          5         6    \\\n",
              "0  230425980    1 -0.171469 -0.184668 -1.201369  -0.121970 -0.043875   \n",
              "1    5530458    1 -0.171484 -0.184668 -1.201369  -0.121970 -0.043875   \n",
              "2  232022460    1 -0.172107 -0.184668 -1.201369  -0.121970 -0.043875   \n",
              "3  232438397    1  0.163054  1.963790 -0.646376  12.409294 -0.063725   \n",
              "4  230460314    1  1.011523 -0.081127 -1.201369   1.153668  0.333276   \n",
              "\n",
              "        7          8         9    ...       157       158       159       160  \\\n",
              "0 -0.113002  -0.061584 -0.162097  ... -0.562153 -0.600999  1.461330  1.461369   \n",
              "1 -0.113002  -0.061584 -0.162112  ...  0.947382  0.673103 -0.979074 -0.978556   \n",
              "2 -0.113002  -0.061584 -0.162749  ...  0.670883  0.439728 -0.979074 -0.978556   \n",
              "3  9.782742  12.414558 -0.163645  ... -0.577099 -0.613614  0.241128  0.241406   \n",
              "4  1.312656  -0.061584 -0.163523  ... -0.511871 -0.400422  0.517257  0.579382   \n",
              "\n",
              "        161       162       163       164       165       166  \n",
              "0  0.018279 -0.087490 -0.131155 -0.097524 -0.120613 -0.119792  \n",
              "1  0.018279 -0.087490 -0.131155 -0.097524 -0.120613 -0.119792  \n",
              "2 -0.098889 -0.106715 -0.131155 -0.183671 -0.120613 -0.119792  \n",
              "3  1.072793  0.085530 -0.131155  0.677799 -0.120613 -0.119792  \n",
              "4  0.018279  0.277775  0.326394  1.293750  0.178136  0.179117  \n",
              "\n",
              "[5 rows x 167 columns]"
            ],
            "text/html": [
              "\n",
              "  <div id=\"df-772d2937-4b15-4f12-af9f-bf8bf23f8c84\" class=\"colab-df-container\">\n",
              "    <div>\n",
              "<style scoped>\n",
              "    .dataframe tbody tr th:only-of-type {\n",
              "        vertical-align: middle;\n",
              "    }\n",
              "\n",
              "    .dataframe tbody tr th {\n",
              "        vertical-align: top;\n",
              "    }\n",
              "\n",
              "    .dataframe thead th {\n",
              "        text-align: right;\n",
              "    }\n",
              "</style>\n",
              "<table border=\"1\" class=\"dataframe\">\n",
              "  <thead>\n",
              "    <tr style=\"text-align: right;\">\n",
              "      <th></th>\n",
              "      <th>0</th>\n",
              "      <th>1</th>\n",
              "      <th>2</th>\n",
              "      <th>3</th>\n",
              "      <th>4</th>\n",
              "      <th>5</th>\n",
              "      <th>6</th>\n",
              "      <th>7</th>\n",
              "      <th>8</th>\n",
              "      <th>9</th>\n",
              "      <th>...</th>\n",
              "      <th>157</th>\n",
              "      <th>158</th>\n",
              "      <th>159</th>\n",
              "      <th>160</th>\n",
              "      <th>161</th>\n",
              "      <th>162</th>\n",
              "      <th>163</th>\n",
              "      <th>164</th>\n",
              "      <th>165</th>\n",
              "      <th>166</th>\n",
              "    </tr>\n",
              "  </thead>\n",
              "  <tbody>\n",
              "    <tr>\n",
              "      <th>0</th>\n",
              "      <td>230425980</td>\n",
              "      <td>1</td>\n",
              "      <td>-0.171469</td>\n",
              "      <td>-0.184668</td>\n",
              "      <td>-1.201369</td>\n",
              "      <td>-0.121970</td>\n",
              "      <td>-0.043875</td>\n",
              "      <td>-0.113002</td>\n",
              "      <td>-0.061584</td>\n",
              "      <td>-0.162097</td>\n",
              "      <td>...</td>\n",
              "      <td>-0.562153</td>\n",
              "      <td>-0.600999</td>\n",
              "      <td>1.461330</td>\n",
              "      <td>1.461369</td>\n",
              "      <td>0.018279</td>\n",
              "      <td>-0.087490</td>\n",
              "      <td>-0.131155</td>\n",
              "      <td>-0.097524</td>\n",
              "      <td>-0.120613</td>\n",
              "      <td>-0.119792</td>\n",
              "    </tr>\n",
              "    <tr>\n",
              "      <th>1</th>\n",
              "      <td>5530458</td>\n",
              "      <td>1</td>\n",
              "      <td>-0.171484</td>\n",
              "      <td>-0.184668</td>\n",
              "      <td>-1.201369</td>\n",
              "      <td>-0.121970</td>\n",
              "      <td>-0.043875</td>\n",
              "      <td>-0.113002</td>\n",
              "      <td>-0.061584</td>\n",
              "      <td>-0.162112</td>\n",
              "      <td>...</td>\n",
              "      <td>0.947382</td>\n",
              "      <td>0.673103</td>\n",
              "      <td>-0.979074</td>\n",
              "      <td>-0.978556</td>\n",
              "      <td>0.018279</td>\n",
              "      <td>-0.087490</td>\n",
              "      <td>-0.131155</td>\n",
              "      <td>-0.097524</td>\n",
              "      <td>-0.120613</td>\n",
              "      <td>-0.119792</td>\n",
              "    </tr>\n",
              "    <tr>\n",
              "      <th>2</th>\n",
              "      <td>232022460</td>\n",
              "      <td>1</td>\n",
              "      <td>-0.172107</td>\n",
              "      <td>-0.184668</td>\n",
              "      <td>-1.201369</td>\n",
              "      <td>-0.121970</td>\n",
              "      <td>-0.043875</td>\n",
              "      <td>-0.113002</td>\n",
              "      <td>-0.061584</td>\n",
              "      <td>-0.162749</td>\n",
              "      <td>...</td>\n",
              "      <td>0.670883</td>\n",
              "      <td>0.439728</td>\n",
              "      <td>-0.979074</td>\n",
              "      <td>-0.978556</td>\n",
              "      <td>-0.098889</td>\n",
              "      <td>-0.106715</td>\n",
              "      <td>-0.131155</td>\n",
              "      <td>-0.183671</td>\n",
              "      <td>-0.120613</td>\n",
              "      <td>-0.119792</td>\n",
              "    </tr>\n",
              "    <tr>\n",
              "      <th>3</th>\n",
              "      <td>232438397</td>\n",
              "      <td>1</td>\n",
              "      <td>0.163054</td>\n",
              "      <td>1.963790</td>\n",
              "      <td>-0.646376</td>\n",
              "      <td>12.409294</td>\n",
              "      <td>-0.063725</td>\n",
              "      <td>9.782742</td>\n",
              "      <td>12.414558</td>\n",
              "      <td>-0.163645</td>\n",
              "      <td>...</td>\n",
              "      <td>-0.577099</td>\n",
              "      <td>-0.613614</td>\n",
              "      <td>0.241128</td>\n",
              "      <td>0.241406</td>\n",
              "      <td>1.072793</td>\n",
              "      <td>0.085530</td>\n",
              "      <td>-0.131155</td>\n",
              "      <td>0.677799</td>\n",
              "      <td>-0.120613</td>\n",
              "      <td>-0.119792</td>\n",
              "    </tr>\n",
              "    <tr>\n",
              "      <th>4</th>\n",
              "      <td>230460314</td>\n",
              "      <td>1</td>\n",
              "      <td>1.011523</td>\n",
              "      <td>-0.081127</td>\n",
              "      <td>-1.201369</td>\n",
              "      <td>1.153668</td>\n",
              "      <td>0.333276</td>\n",
              "      <td>1.312656</td>\n",
              "      <td>-0.061584</td>\n",
              "      <td>-0.163523</td>\n",
              "      <td>...</td>\n",
              "      <td>-0.511871</td>\n",
              "      <td>-0.400422</td>\n",
              "      <td>0.517257</td>\n",
              "      <td>0.579382</td>\n",
              "      <td>0.018279</td>\n",
              "      <td>0.277775</td>\n",
              "      <td>0.326394</td>\n",
              "      <td>1.293750</td>\n",
              "      <td>0.178136</td>\n",
              "      <td>0.179117</td>\n",
              "    </tr>\n",
              "  </tbody>\n",
              "</table>\n",
              "<p>5 rows × 167 columns</p>\n",
              "</div>\n",
              "    <div class=\"colab-df-buttons\">\n",
              "\n",
              "  <div class=\"colab-df-container\">\n",
              "    <button class=\"colab-df-convert\" onclick=\"convertToInteractive('df-772d2937-4b15-4f12-af9f-bf8bf23f8c84')\"\n",
              "            title=\"Convert this dataframe to an interactive table.\"\n",
              "            style=\"display:none;\">\n",
              "\n",
              "  <svg xmlns=\"http://www.w3.org/2000/svg\" height=\"24px\" viewBox=\"0 -960 960 960\">\n",
              "    <path d=\"M120-120v-720h720v720H120Zm60-500h600v-160H180v160Zm220 220h160v-160H400v160Zm0 220h160v-160H400v160ZM180-400h160v-160H180v160Zm440 0h160v-160H620v160ZM180-180h160v-160H180v160Zm440 0h160v-160H620v160Z\"/>\n",
              "  </svg>\n",
              "    </button>\n",
              "\n",
              "  <style>\n",
              "    .colab-df-container {\n",
              "      display:flex;\n",
              "      gap: 12px;\n",
              "    }\n",
              "\n",
              "    .colab-df-convert {\n",
              "      background-color: #E8F0FE;\n",
              "      border: none;\n",
              "      border-radius: 50%;\n",
              "      cursor: pointer;\n",
              "      display: none;\n",
              "      fill: #1967D2;\n",
              "      height: 32px;\n",
              "      padding: 0 0 0 0;\n",
              "      width: 32px;\n",
              "    }\n",
              "\n",
              "    .colab-df-convert:hover {\n",
              "      background-color: #E2EBFA;\n",
              "      box-shadow: 0px 1px 2px rgba(60, 64, 67, 0.3), 0px 1px 3px 1px rgba(60, 64, 67, 0.15);\n",
              "      fill: #174EA6;\n",
              "    }\n",
              "\n",
              "    .colab-df-buttons div {\n",
              "      margin-bottom: 4px;\n",
              "    }\n",
              "\n",
              "    [theme=dark] .colab-df-convert {\n",
              "      background-color: #3B4455;\n",
              "      fill: #D2E3FC;\n",
              "    }\n",
              "\n",
              "    [theme=dark] .colab-df-convert:hover {\n",
              "      background-color: #434B5C;\n",
              "      box-shadow: 0px 1px 3px 1px rgba(0, 0, 0, 0.15);\n",
              "      filter: drop-shadow(0px 1px 2px rgba(0, 0, 0, 0.3));\n",
              "      fill: #FFFFFF;\n",
              "    }\n",
              "  </style>\n",
              "\n",
              "    <script>\n",
              "      const buttonEl =\n",
              "        document.querySelector('#df-772d2937-4b15-4f12-af9f-bf8bf23f8c84 button.colab-df-convert');\n",
              "      buttonEl.style.display =\n",
              "        google.colab.kernel.accessAllowed ? 'block' : 'none';\n",
              "\n",
              "      async function convertToInteractive(key) {\n",
              "        const element = document.querySelector('#df-772d2937-4b15-4f12-af9f-bf8bf23f8c84');\n",
              "        const dataTable =\n",
              "          await google.colab.kernel.invokeFunction('convertToInteractive',\n",
              "                                                    [key], {});\n",
              "        if (!dataTable) return;\n",
              "\n",
              "        const docLinkHtml = 'Like what you see? Visit the ' +\n",
              "          '<a target=\"_blank\" href=https://colab.research.google.com/notebooks/data_table.ipynb>data table notebook</a>'\n",
              "          + ' to learn more about interactive tables.';\n",
              "        element.innerHTML = '';\n",
              "        dataTable['output_type'] = 'display_data';\n",
              "        await google.colab.output.renderOutput(dataTable, element);\n",
              "        const docLink = document.createElement('div');\n",
              "        docLink.innerHTML = docLinkHtml;\n",
              "        element.appendChild(docLink);\n",
              "      }\n",
              "    </script>\n",
              "  </div>\n",
              "\n",
              "\n",
              "<div id=\"df-764d9d81-b43b-43d2-8130-a6add22ab4a1\">\n",
              "  <button class=\"colab-df-quickchart\" onclick=\"quickchart('df-764d9d81-b43b-43d2-8130-a6add22ab4a1')\"\n",
              "            title=\"Suggest charts\"\n",
              "            style=\"display:none;\">\n",
              "\n",
              "<svg xmlns=\"http://www.w3.org/2000/svg\" height=\"24px\"viewBox=\"0 0 24 24\"\n",
              "     width=\"24px\">\n",
              "    <g>\n",
              "        <path d=\"M19 3H5c-1.1 0-2 .9-2 2v14c0 1.1.9 2 2 2h14c1.1 0 2-.9 2-2V5c0-1.1-.9-2-2-2zM9 17H7v-7h2v7zm4 0h-2V7h2v10zm4 0h-2v-4h2v4z\"/>\n",
              "    </g>\n",
              "</svg>\n",
              "  </button>\n",
              "\n",
              "<style>\n",
              "  .colab-df-quickchart {\n",
              "      --bg-color: #E8F0FE;\n",
              "      --fill-color: #1967D2;\n",
              "      --hover-bg-color: #E2EBFA;\n",
              "      --hover-fill-color: #174EA6;\n",
              "      --disabled-fill-color: #AAA;\n",
              "      --disabled-bg-color: #DDD;\n",
              "  }\n",
              "\n",
              "  [theme=dark] .colab-df-quickchart {\n",
              "      --bg-color: #3B4455;\n",
              "      --fill-color: #D2E3FC;\n",
              "      --hover-bg-color: #434B5C;\n",
              "      --hover-fill-color: #FFFFFF;\n",
              "      --disabled-bg-color: #3B4455;\n",
              "      --disabled-fill-color: #666;\n",
              "  }\n",
              "\n",
              "  .colab-df-quickchart {\n",
              "    background-color: var(--bg-color);\n",
              "    border: none;\n",
              "    border-radius: 50%;\n",
              "    cursor: pointer;\n",
              "    display: none;\n",
              "    fill: var(--fill-color);\n",
              "    height: 32px;\n",
              "    padding: 0;\n",
              "    width: 32px;\n",
              "  }\n",
              "\n",
              "  .colab-df-quickchart:hover {\n",
              "    background-color: var(--hover-bg-color);\n",
              "    box-shadow: 0 1px 2px rgba(60, 64, 67, 0.3), 0 1px 3px 1px rgba(60, 64, 67, 0.15);\n",
              "    fill: var(--button-hover-fill-color);\n",
              "  }\n",
              "\n",
              "  .colab-df-quickchart-complete:disabled,\n",
              "  .colab-df-quickchart-complete:disabled:hover {\n",
              "    background-color: var(--disabled-bg-color);\n",
              "    fill: var(--disabled-fill-color);\n",
              "    box-shadow: none;\n",
              "  }\n",
              "\n",
              "  .colab-df-spinner {\n",
              "    border: 2px solid var(--fill-color);\n",
              "    border-color: transparent;\n",
              "    border-bottom-color: var(--fill-color);\n",
              "    animation:\n",
              "      spin 1s steps(1) infinite;\n",
              "  }\n",
              "\n",
              "  @keyframes spin {\n",
              "    0% {\n",
              "      border-color: transparent;\n",
              "      border-bottom-color: var(--fill-color);\n",
              "      border-left-color: var(--fill-color);\n",
              "    }\n",
              "    20% {\n",
              "      border-color: transparent;\n",
              "      border-left-color: var(--fill-color);\n",
              "      border-top-color: var(--fill-color);\n",
              "    }\n",
              "    30% {\n",
              "      border-color: transparent;\n",
              "      border-left-color: var(--fill-color);\n",
              "      border-top-color: var(--fill-color);\n",
              "      border-right-color: var(--fill-color);\n",
              "    }\n",
              "    40% {\n",
              "      border-color: transparent;\n",
              "      border-right-color: var(--fill-color);\n",
              "      border-top-color: var(--fill-color);\n",
              "    }\n",
              "    60% {\n",
              "      border-color: transparent;\n",
              "      border-right-color: var(--fill-color);\n",
              "    }\n",
              "    80% {\n",
              "      border-color: transparent;\n",
              "      border-right-color: var(--fill-color);\n",
              "      border-bottom-color: var(--fill-color);\n",
              "    }\n",
              "    90% {\n",
              "      border-color: transparent;\n",
              "      border-bottom-color: var(--fill-color);\n",
              "    }\n",
              "  }\n",
              "</style>\n",
              "\n",
              "  <script>\n",
              "    async function quickchart(key) {\n",
              "      const quickchartButtonEl =\n",
              "        document.querySelector('#' + key + ' button');\n",
              "      quickchartButtonEl.disabled = true;  // To prevent multiple clicks.\n",
              "      quickchartButtonEl.classList.add('colab-df-spinner');\n",
              "      try {\n",
              "        const charts = await google.colab.kernel.invokeFunction(\n",
              "            'suggestCharts', [key], {});\n",
              "      } catch (error) {\n",
              "        console.error('Error during call to suggestCharts:', error);\n",
              "      }\n",
              "      quickchartButtonEl.classList.remove('colab-df-spinner');\n",
              "      quickchartButtonEl.classList.add('colab-df-quickchart-complete');\n",
              "    }\n",
              "    (() => {\n",
              "      let quickchartButtonEl =\n",
              "        document.querySelector('#df-764d9d81-b43b-43d2-8130-a6add22ab4a1 button');\n",
              "      quickchartButtonEl.style.display =\n",
              "        google.colab.kernel.accessAllowed ? 'block' : 'none';\n",
              "    })();\n",
              "  </script>\n",
              "</div>\n",
              "\n",
              "    </div>\n",
              "  </div>\n"
            ],
            "application/vnd.google.colaboratory.intrinsic+json": {
              "type": "dataframe",
              "variable_name": "df_features"
            }
          },
          "metadata": {},
          "execution_count": 30
        }
      ]
    },
    {
      "cell_type": "code",
      "source": [
        "df_edges.head()"
      ],
      "metadata": {
        "colab": {
          "base_uri": "https://localhost:8080/",
          "height": 206
        },
        "id": "kCXtpVSZofbp",
        "outputId": "97e27035-8ef0-4b45-f4f2-ee48e28a7495"
      },
      "execution_count": 29,
      "outputs": [
        {
          "output_type": "execute_result",
          "data": {
            "text/plain": [
              "       txId1      txId2\n",
              "0  230425980    5530458\n",
              "1  232022460  232438397\n",
              "2  230460314  230459870\n",
              "3  230333930  230595899\n",
              "4  232013274  232029206"
            ],
            "text/html": [
              "\n",
              "  <div id=\"df-e3f99345-c792-4dec-8689-f1da72d20798\" class=\"colab-df-container\">\n",
              "    <div>\n",
              "<style scoped>\n",
              "    .dataframe tbody tr th:only-of-type {\n",
              "        vertical-align: middle;\n",
              "    }\n",
              "\n",
              "    .dataframe tbody tr th {\n",
              "        vertical-align: top;\n",
              "    }\n",
              "\n",
              "    .dataframe thead th {\n",
              "        text-align: right;\n",
              "    }\n",
              "</style>\n",
              "<table border=\"1\" class=\"dataframe\">\n",
              "  <thead>\n",
              "    <tr style=\"text-align: right;\">\n",
              "      <th></th>\n",
              "      <th>txId1</th>\n",
              "      <th>txId2</th>\n",
              "    </tr>\n",
              "  </thead>\n",
              "  <tbody>\n",
              "    <tr>\n",
              "      <th>0</th>\n",
              "      <td>230425980</td>\n",
              "      <td>5530458</td>\n",
              "    </tr>\n",
              "    <tr>\n",
              "      <th>1</th>\n",
              "      <td>232022460</td>\n",
              "      <td>232438397</td>\n",
              "    </tr>\n",
              "    <tr>\n",
              "      <th>2</th>\n",
              "      <td>230460314</td>\n",
              "      <td>230459870</td>\n",
              "    </tr>\n",
              "    <tr>\n",
              "      <th>3</th>\n",
              "      <td>230333930</td>\n",
              "      <td>230595899</td>\n",
              "    </tr>\n",
              "    <tr>\n",
              "      <th>4</th>\n",
              "      <td>232013274</td>\n",
              "      <td>232029206</td>\n",
              "    </tr>\n",
              "  </tbody>\n",
              "</table>\n",
              "</div>\n",
              "    <div class=\"colab-df-buttons\">\n",
              "\n",
              "  <div class=\"colab-df-container\">\n",
              "    <button class=\"colab-df-convert\" onclick=\"convertToInteractive('df-e3f99345-c792-4dec-8689-f1da72d20798')\"\n",
              "            title=\"Convert this dataframe to an interactive table.\"\n",
              "            style=\"display:none;\">\n",
              "\n",
              "  <svg xmlns=\"http://www.w3.org/2000/svg\" height=\"24px\" viewBox=\"0 -960 960 960\">\n",
              "    <path d=\"M120-120v-720h720v720H120Zm60-500h600v-160H180v160Zm220 220h160v-160H400v160Zm0 220h160v-160H400v160ZM180-400h160v-160H180v160Zm440 0h160v-160H620v160ZM180-180h160v-160H180v160Zm440 0h160v-160H620v160Z\"/>\n",
              "  </svg>\n",
              "    </button>\n",
              "\n",
              "  <style>\n",
              "    .colab-df-container {\n",
              "      display:flex;\n",
              "      gap: 12px;\n",
              "    }\n",
              "\n",
              "    .colab-df-convert {\n",
              "      background-color: #E8F0FE;\n",
              "      border: none;\n",
              "      border-radius: 50%;\n",
              "      cursor: pointer;\n",
              "      display: none;\n",
              "      fill: #1967D2;\n",
              "      height: 32px;\n",
              "      padding: 0 0 0 0;\n",
              "      width: 32px;\n",
              "    }\n",
              "\n",
              "    .colab-df-convert:hover {\n",
              "      background-color: #E2EBFA;\n",
              "      box-shadow: 0px 1px 2px rgba(60, 64, 67, 0.3), 0px 1px 3px 1px rgba(60, 64, 67, 0.15);\n",
              "      fill: #174EA6;\n",
              "    }\n",
              "\n",
              "    .colab-df-buttons div {\n",
              "      margin-bottom: 4px;\n",
              "    }\n",
              "\n",
              "    [theme=dark] .colab-df-convert {\n",
              "      background-color: #3B4455;\n",
              "      fill: #D2E3FC;\n",
              "    }\n",
              "\n",
              "    [theme=dark] .colab-df-convert:hover {\n",
              "      background-color: #434B5C;\n",
              "      box-shadow: 0px 1px 3px 1px rgba(0, 0, 0, 0.15);\n",
              "      filter: drop-shadow(0px 1px 2px rgba(0, 0, 0, 0.3));\n",
              "      fill: #FFFFFF;\n",
              "    }\n",
              "  </style>\n",
              "\n",
              "    <script>\n",
              "      const buttonEl =\n",
              "        document.querySelector('#df-e3f99345-c792-4dec-8689-f1da72d20798 button.colab-df-convert');\n",
              "      buttonEl.style.display =\n",
              "        google.colab.kernel.accessAllowed ? 'block' : 'none';\n",
              "\n",
              "      async function convertToInteractive(key) {\n",
              "        const element = document.querySelector('#df-e3f99345-c792-4dec-8689-f1da72d20798');\n",
              "        const dataTable =\n",
              "          await google.colab.kernel.invokeFunction('convertToInteractive',\n",
              "                                                    [key], {});\n",
              "        if (!dataTable) return;\n",
              "\n",
              "        const docLinkHtml = 'Like what you see? Visit the ' +\n",
              "          '<a target=\"_blank\" href=https://colab.research.google.com/notebooks/data_table.ipynb>data table notebook</a>'\n",
              "          + ' to learn more about interactive tables.';\n",
              "        element.innerHTML = '';\n",
              "        dataTable['output_type'] = 'display_data';\n",
              "        await google.colab.output.renderOutput(dataTable, element);\n",
              "        const docLink = document.createElement('div');\n",
              "        docLink.innerHTML = docLinkHtml;\n",
              "        element.appendChild(docLink);\n",
              "      }\n",
              "    </script>\n",
              "  </div>\n",
              "\n",
              "\n",
              "<div id=\"df-d67c9d64-ef71-4ca6-9615-bba712a678b8\">\n",
              "  <button class=\"colab-df-quickchart\" onclick=\"quickchart('df-d67c9d64-ef71-4ca6-9615-bba712a678b8')\"\n",
              "            title=\"Suggest charts\"\n",
              "            style=\"display:none;\">\n",
              "\n",
              "<svg xmlns=\"http://www.w3.org/2000/svg\" height=\"24px\"viewBox=\"0 0 24 24\"\n",
              "     width=\"24px\">\n",
              "    <g>\n",
              "        <path d=\"M19 3H5c-1.1 0-2 .9-2 2v14c0 1.1.9 2 2 2h14c1.1 0 2-.9 2-2V5c0-1.1-.9-2-2-2zM9 17H7v-7h2v7zm4 0h-2V7h2v10zm4 0h-2v-4h2v4z\"/>\n",
              "    </g>\n",
              "</svg>\n",
              "  </button>\n",
              "\n",
              "<style>\n",
              "  .colab-df-quickchart {\n",
              "      --bg-color: #E8F0FE;\n",
              "      --fill-color: #1967D2;\n",
              "      --hover-bg-color: #E2EBFA;\n",
              "      --hover-fill-color: #174EA6;\n",
              "      --disabled-fill-color: #AAA;\n",
              "      --disabled-bg-color: #DDD;\n",
              "  }\n",
              "\n",
              "  [theme=dark] .colab-df-quickchart {\n",
              "      --bg-color: #3B4455;\n",
              "      --fill-color: #D2E3FC;\n",
              "      --hover-bg-color: #434B5C;\n",
              "      --hover-fill-color: #FFFFFF;\n",
              "      --disabled-bg-color: #3B4455;\n",
              "      --disabled-fill-color: #666;\n",
              "  }\n",
              "\n",
              "  .colab-df-quickchart {\n",
              "    background-color: var(--bg-color);\n",
              "    border: none;\n",
              "    border-radius: 50%;\n",
              "    cursor: pointer;\n",
              "    display: none;\n",
              "    fill: var(--fill-color);\n",
              "    height: 32px;\n",
              "    padding: 0;\n",
              "    width: 32px;\n",
              "  }\n",
              "\n",
              "  .colab-df-quickchart:hover {\n",
              "    background-color: var(--hover-bg-color);\n",
              "    box-shadow: 0 1px 2px rgba(60, 64, 67, 0.3), 0 1px 3px 1px rgba(60, 64, 67, 0.15);\n",
              "    fill: var(--button-hover-fill-color);\n",
              "  }\n",
              "\n",
              "  .colab-df-quickchart-complete:disabled,\n",
              "  .colab-df-quickchart-complete:disabled:hover {\n",
              "    background-color: var(--disabled-bg-color);\n",
              "    fill: var(--disabled-fill-color);\n",
              "    box-shadow: none;\n",
              "  }\n",
              "\n",
              "  .colab-df-spinner {\n",
              "    border: 2px solid var(--fill-color);\n",
              "    border-color: transparent;\n",
              "    border-bottom-color: var(--fill-color);\n",
              "    animation:\n",
              "      spin 1s steps(1) infinite;\n",
              "  }\n",
              "\n",
              "  @keyframes spin {\n",
              "    0% {\n",
              "      border-color: transparent;\n",
              "      border-bottom-color: var(--fill-color);\n",
              "      border-left-color: var(--fill-color);\n",
              "    }\n",
              "    20% {\n",
              "      border-color: transparent;\n",
              "      border-left-color: var(--fill-color);\n",
              "      border-top-color: var(--fill-color);\n",
              "    }\n",
              "    30% {\n",
              "      border-color: transparent;\n",
              "      border-left-color: var(--fill-color);\n",
              "      border-top-color: var(--fill-color);\n",
              "      border-right-color: var(--fill-color);\n",
              "    }\n",
              "    40% {\n",
              "      border-color: transparent;\n",
              "      border-right-color: var(--fill-color);\n",
              "      border-top-color: var(--fill-color);\n",
              "    }\n",
              "    60% {\n",
              "      border-color: transparent;\n",
              "      border-right-color: var(--fill-color);\n",
              "    }\n",
              "    80% {\n",
              "      border-color: transparent;\n",
              "      border-right-color: var(--fill-color);\n",
              "      border-bottom-color: var(--fill-color);\n",
              "    }\n",
              "    90% {\n",
              "      border-color: transparent;\n",
              "      border-bottom-color: var(--fill-color);\n",
              "    }\n",
              "  }\n",
              "</style>\n",
              "\n",
              "  <script>\n",
              "    async function quickchart(key) {\n",
              "      const quickchartButtonEl =\n",
              "        document.querySelector('#' + key + ' button');\n",
              "      quickchartButtonEl.disabled = true;  // To prevent multiple clicks.\n",
              "      quickchartButtonEl.classList.add('colab-df-spinner');\n",
              "      try {\n",
              "        const charts = await google.colab.kernel.invokeFunction(\n",
              "            'suggestCharts', [key], {});\n",
              "      } catch (error) {\n",
              "        console.error('Error during call to suggestCharts:', error);\n",
              "      }\n",
              "      quickchartButtonEl.classList.remove('colab-df-spinner');\n",
              "      quickchartButtonEl.classList.add('colab-df-quickchart-complete');\n",
              "    }\n",
              "    (() => {\n",
              "      let quickchartButtonEl =\n",
              "        document.querySelector('#df-d67c9d64-ef71-4ca6-9615-bba712a678b8 button');\n",
              "      quickchartButtonEl.style.display =\n",
              "        google.colab.kernel.accessAllowed ? 'block' : 'none';\n",
              "    })();\n",
              "  </script>\n",
              "</div>\n",
              "\n",
              "    </div>\n",
              "  </div>\n"
            ],
            "application/vnd.google.colaboratory.intrinsic+json": {
              "type": "dataframe",
              "variable_name": "df_edges"
            }
          },
          "metadata": {},
          "execution_count": 29
        }
      ]
    },
    {
      "cell_type": "code",
      "source": [
        "df_classes.head()"
      ],
      "metadata": {
        "colab": {
          "base_uri": "https://localhost:8080/",
          "height": 206
        },
        "id": "4GtsBB13ohYd",
        "outputId": "633bb74a-e67b-47cd-c27c-e247a949e766"
      },
      "execution_count": 28,
      "outputs": [
        {
          "output_type": "execute_result",
          "data": {
            "text/plain": [
              "        txId  class\n",
              "0  230425980      2\n",
              "1    5530458      2\n",
              "2  232022460      2\n",
              "3  232438397      0\n",
              "4  230460314      2"
            ],
            "text/html": [
              "\n",
              "  <div id=\"df-af4368c4-a928-47df-85d1-ed7e308e121d\" class=\"colab-df-container\">\n",
              "    <div>\n",
              "<style scoped>\n",
              "    .dataframe tbody tr th:only-of-type {\n",
              "        vertical-align: middle;\n",
              "    }\n",
              "\n",
              "    .dataframe tbody tr th {\n",
              "        vertical-align: top;\n",
              "    }\n",
              "\n",
              "    .dataframe thead th {\n",
              "        text-align: right;\n",
              "    }\n",
              "</style>\n",
              "<table border=\"1\" class=\"dataframe\">\n",
              "  <thead>\n",
              "    <tr style=\"text-align: right;\">\n",
              "      <th></th>\n",
              "      <th>txId</th>\n",
              "      <th>class</th>\n",
              "    </tr>\n",
              "  </thead>\n",
              "  <tbody>\n",
              "    <tr>\n",
              "      <th>0</th>\n",
              "      <td>230425980</td>\n",
              "      <td>2</td>\n",
              "    </tr>\n",
              "    <tr>\n",
              "      <th>1</th>\n",
              "      <td>5530458</td>\n",
              "      <td>2</td>\n",
              "    </tr>\n",
              "    <tr>\n",
              "      <th>2</th>\n",
              "      <td>232022460</td>\n",
              "      <td>2</td>\n",
              "    </tr>\n",
              "    <tr>\n",
              "      <th>3</th>\n",
              "      <td>232438397</td>\n",
              "      <td>0</td>\n",
              "    </tr>\n",
              "    <tr>\n",
              "      <th>4</th>\n",
              "      <td>230460314</td>\n",
              "      <td>2</td>\n",
              "    </tr>\n",
              "  </tbody>\n",
              "</table>\n",
              "</div>\n",
              "    <div class=\"colab-df-buttons\">\n",
              "\n",
              "  <div class=\"colab-df-container\">\n",
              "    <button class=\"colab-df-convert\" onclick=\"convertToInteractive('df-af4368c4-a928-47df-85d1-ed7e308e121d')\"\n",
              "            title=\"Convert this dataframe to an interactive table.\"\n",
              "            style=\"display:none;\">\n",
              "\n",
              "  <svg xmlns=\"http://www.w3.org/2000/svg\" height=\"24px\" viewBox=\"0 -960 960 960\">\n",
              "    <path d=\"M120-120v-720h720v720H120Zm60-500h600v-160H180v160Zm220 220h160v-160H400v160Zm0 220h160v-160H400v160ZM180-400h160v-160H180v160Zm440 0h160v-160H620v160ZM180-180h160v-160H180v160Zm440 0h160v-160H620v160Z\"/>\n",
              "  </svg>\n",
              "    </button>\n",
              "\n",
              "  <style>\n",
              "    .colab-df-container {\n",
              "      display:flex;\n",
              "      gap: 12px;\n",
              "    }\n",
              "\n",
              "    .colab-df-convert {\n",
              "      background-color: #E8F0FE;\n",
              "      border: none;\n",
              "      border-radius: 50%;\n",
              "      cursor: pointer;\n",
              "      display: none;\n",
              "      fill: #1967D2;\n",
              "      height: 32px;\n",
              "      padding: 0 0 0 0;\n",
              "      width: 32px;\n",
              "    }\n",
              "\n",
              "    .colab-df-convert:hover {\n",
              "      background-color: #E2EBFA;\n",
              "      box-shadow: 0px 1px 2px rgba(60, 64, 67, 0.3), 0px 1px 3px 1px rgba(60, 64, 67, 0.15);\n",
              "      fill: #174EA6;\n",
              "    }\n",
              "\n",
              "    .colab-df-buttons div {\n",
              "      margin-bottom: 4px;\n",
              "    }\n",
              "\n",
              "    [theme=dark] .colab-df-convert {\n",
              "      background-color: #3B4455;\n",
              "      fill: #D2E3FC;\n",
              "    }\n",
              "\n",
              "    [theme=dark] .colab-df-convert:hover {\n",
              "      background-color: #434B5C;\n",
              "      box-shadow: 0px 1px 3px 1px rgba(0, 0, 0, 0.15);\n",
              "      filter: drop-shadow(0px 1px 2px rgba(0, 0, 0, 0.3));\n",
              "      fill: #FFFFFF;\n",
              "    }\n",
              "  </style>\n",
              "\n",
              "    <script>\n",
              "      const buttonEl =\n",
              "        document.querySelector('#df-af4368c4-a928-47df-85d1-ed7e308e121d button.colab-df-convert');\n",
              "      buttonEl.style.display =\n",
              "        google.colab.kernel.accessAllowed ? 'block' : 'none';\n",
              "\n",
              "      async function convertToInteractive(key) {\n",
              "        const element = document.querySelector('#df-af4368c4-a928-47df-85d1-ed7e308e121d');\n",
              "        const dataTable =\n",
              "          await google.colab.kernel.invokeFunction('convertToInteractive',\n",
              "                                                    [key], {});\n",
              "        if (!dataTable) return;\n",
              "\n",
              "        const docLinkHtml = 'Like what you see? Visit the ' +\n",
              "          '<a target=\"_blank\" href=https://colab.research.google.com/notebooks/data_table.ipynb>data table notebook</a>'\n",
              "          + ' to learn more about interactive tables.';\n",
              "        element.innerHTML = '';\n",
              "        dataTable['output_type'] = 'display_data';\n",
              "        await google.colab.output.renderOutput(dataTable, element);\n",
              "        const docLink = document.createElement('div');\n",
              "        docLink.innerHTML = docLinkHtml;\n",
              "        element.appendChild(docLink);\n",
              "      }\n",
              "    </script>\n",
              "  </div>\n",
              "\n",
              "\n",
              "<div id=\"df-68713c09-51b2-4a87-9417-6403c6dbaebf\">\n",
              "  <button class=\"colab-df-quickchart\" onclick=\"quickchart('df-68713c09-51b2-4a87-9417-6403c6dbaebf')\"\n",
              "            title=\"Suggest charts\"\n",
              "            style=\"display:none;\">\n",
              "\n",
              "<svg xmlns=\"http://www.w3.org/2000/svg\" height=\"24px\"viewBox=\"0 0 24 24\"\n",
              "     width=\"24px\">\n",
              "    <g>\n",
              "        <path d=\"M19 3H5c-1.1 0-2 .9-2 2v14c0 1.1.9 2 2 2h14c1.1 0 2-.9 2-2V5c0-1.1-.9-2-2-2zM9 17H7v-7h2v7zm4 0h-2V7h2v10zm4 0h-2v-4h2v4z\"/>\n",
              "    </g>\n",
              "</svg>\n",
              "  </button>\n",
              "\n",
              "<style>\n",
              "  .colab-df-quickchart {\n",
              "      --bg-color: #E8F0FE;\n",
              "      --fill-color: #1967D2;\n",
              "      --hover-bg-color: #E2EBFA;\n",
              "      --hover-fill-color: #174EA6;\n",
              "      --disabled-fill-color: #AAA;\n",
              "      --disabled-bg-color: #DDD;\n",
              "  }\n",
              "\n",
              "  [theme=dark] .colab-df-quickchart {\n",
              "      --bg-color: #3B4455;\n",
              "      --fill-color: #D2E3FC;\n",
              "      --hover-bg-color: #434B5C;\n",
              "      --hover-fill-color: #FFFFFF;\n",
              "      --disabled-bg-color: #3B4455;\n",
              "      --disabled-fill-color: #666;\n",
              "  }\n",
              "\n",
              "  .colab-df-quickchart {\n",
              "    background-color: var(--bg-color);\n",
              "    border: none;\n",
              "    border-radius: 50%;\n",
              "    cursor: pointer;\n",
              "    display: none;\n",
              "    fill: var(--fill-color);\n",
              "    height: 32px;\n",
              "    padding: 0;\n",
              "    width: 32px;\n",
              "  }\n",
              "\n",
              "  .colab-df-quickchart:hover {\n",
              "    background-color: var(--hover-bg-color);\n",
              "    box-shadow: 0 1px 2px rgba(60, 64, 67, 0.3), 0 1px 3px 1px rgba(60, 64, 67, 0.15);\n",
              "    fill: var(--button-hover-fill-color);\n",
              "  }\n",
              "\n",
              "  .colab-df-quickchart-complete:disabled,\n",
              "  .colab-df-quickchart-complete:disabled:hover {\n",
              "    background-color: var(--disabled-bg-color);\n",
              "    fill: var(--disabled-fill-color);\n",
              "    box-shadow: none;\n",
              "  }\n",
              "\n",
              "  .colab-df-spinner {\n",
              "    border: 2px solid var(--fill-color);\n",
              "    border-color: transparent;\n",
              "    border-bottom-color: var(--fill-color);\n",
              "    animation:\n",
              "      spin 1s steps(1) infinite;\n",
              "  }\n",
              "\n",
              "  @keyframes spin {\n",
              "    0% {\n",
              "      border-color: transparent;\n",
              "      border-bottom-color: var(--fill-color);\n",
              "      border-left-color: var(--fill-color);\n",
              "    }\n",
              "    20% {\n",
              "      border-color: transparent;\n",
              "      border-left-color: var(--fill-color);\n",
              "      border-top-color: var(--fill-color);\n",
              "    }\n",
              "    30% {\n",
              "      border-color: transparent;\n",
              "      border-left-color: var(--fill-color);\n",
              "      border-top-color: var(--fill-color);\n",
              "      border-right-color: var(--fill-color);\n",
              "    }\n",
              "    40% {\n",
              "      border-color: transparent;\n",
              "      border-right-color: var(--fill-color);\n",
              "      border-top-color: var(--fill-color);\n",
              "    }\n",
              "    60% {\n",
              "      border-color: transparent;\n",
              "      border-right-color: var(--fill-color);\n",
              "    }\n",
              "    80% {\n",
              "      border-color: transparent;\n",
              "      border-right-color: var(--fill-color);\n",
              "      border-bottom-color: var(--fill-color);\n",
              "    }\n",
              "    90% {\n",
              "      border-color: transparent;\n",
              "      border-bottom-color: var(--fill-color);\n",
              "    }\n",
              "  }\n",
              "</style>\n",
              "\n",
              "  <script>\n",
              "    async function quickchart(key) {\n",
              "      const quickchartButtonEl =\n",
              "        document.querySelector('#' + key + ' button');\n",
              "      quickchartButtonEl.disabled = true;  // To prevent multiple clicks.\n",
              "      quickchartButtonEl.classList.add('colab-df-spinner');\n",
              "      try {\n",
              "        const charts = await google.colab.kernel.invokeFunction(\n",
              "            'suggestCharts', [key], {});\n",
              "      } catch (error) {\n",
              "        console.error('Error during call to suggestCharts:', error);\n",
              "      }\n",
              "      quickchartButtonEl.classList.remove('colab-df-spinner');\n",
              "      quickchartButtonEl.classList.add('colab-df-quickchart-complete');\n",
              "    }\n",
              "    (() => {\n",
              "      let quickchartButtonEl =\n",
              "        document.querySelector('#df-68713c09-51b2-4a87-9417-6403c6dbaebf button');\n",
              "      quickchartButtonEl.style.display =\n",
              "        google.colab.kernel.accessAllowed ? 'block' : 'none';\n",
              "    })();\n",
              "  </script>\n",
              "</div>\n",
              "\n",
              "    </div>\n",
              "  </div>\n"
            ],
            "application/vnd.google.colaboratory.intrinsic+json": {
              "type": "dataframe",
              "variable_name": "df_classes"
            }
          },
          "metadata": {},
          "execution_count": 28
        }
      ]
    },
    {
      "cell_type": "code",
      "source": [
        "df_classes['class'].value_counts()"
      ],
      "metadata": {
        "colab": {
          "base_uri": "https://localhost:8080/",
          "height": 210
        },
        "id": "RdoU6HuZoi5O",
        "outputId": "98f76f2b-6ba1-49e4-831b-1d754ea5a23e"
      },
      "execution_count": 27,
      "outputs": [
        {
          "output_type": "execute_result",
          "data": {
            "text/plain": [
              "class\n",
              "2    157205\n",
              "0     42019\n",
              "1      4545\n",
              "Name: count, dtype: int64"
            ],
            "text/html": [
              "<div>\n",
              "<style scoped>\n",
              "    .dataframe tbody tr th:only-of-type {\n",
              "        vertical-align: middle;\n",
              "    }\n",
              "\n",
              "    .dataframe tbody tr th {\n",
              "        vertical-align: top;\n",
              "    }\n",
              "\n",
              "    .dataframe thead th {\n",
              "        text-align: right;\n",
              "    }\n",
              "</style>\n",
              "<table border=\"1\" class=\"dataframe\">\n",
              "  <thead>\n",
              "    <tr style=\"text-align: right;\">\n",
              "      <th></th>\n",
              "      <th>count</th>\n",
              "    </tr>\n",
              "    <tr>\n",
              "      <th>class</th>\n",
              "      <th></th>\n",
              "    </tr>\n",
              "  </thead>\n",
              "  <tbody>\n",
              "    <tr>\n",
              "      <th>2</th>\n",
              "      <td>157205</td>\n",
              "    </tr>\n",
              "    <tr>\n",
              "      <th>0</th>\n",
              "      <td>42019</td>\n",
              "    </tr>\n",
              "    <tr>\n",
              "      <th>1</th>\n",
              "      <td>4545</td>\n",
              "    </tr>\n",
              "  </tbody>\n",
              "</table>\n",
              "</div><br><label><b>dtype:</b> int64</label>"
            ]
          },
          "metadata": {},
          "execution_count": 27
        }
      ]
    },
    {
      "cell_type": "code",
      "source": [
        "# Overview of the dataset\n",
        "# Load the dataset\n",
        "# Print dataset information\n",
        "print(f\"Number of graphs in the dataset: {len(dataset)}\")\n",
        "print(f\"Number of features per node: {dataset.num_node_features}\")\n",
        "print(f\"Number of classes: {dataset.num_classes}\")\n",
        "\n",
        "# Access the first graph in the dataset\n",
        "data = dataset[0]\n",
        "\n",
        "# Print key attributes of the graph data\n",
        "print(\"\\nGraph Data:\")\n",
        "print(f\"Node feature matrix shape: {data.x.shape}\")\n",
        "print(f\"Edge index shape: {data.edge_index.shape}\")\n",
        "print(f\"Label shape: {data.y.shape}\")\n",
        "print(f\"Number of nodes: {data.num_nodes}\")\n",
        "print(f\"Number of edges: {data.num_edges}\")\n",
        "print(f\"Graph is directed: {data.is_directed()}\")\n",
        "\n",
        "# Print some sample data\n",
        "print(\"\\nSample Features and Labels:\")\n",
        "print(f\"First node features: {data.x[0]}\")\n",
        "print(f\"Edge indices: {data.edge_index[:, :5]}\")  # Print first 5 edges\n",
        "print(f\"First 5 node labels: {data.y[:5]}\")"
      ],
      "metadata": {
        "colab": {
          "base_uri": "https://localhost:8080/"
        },
        "id": "un2YkvAopC2D",
        "outputId": "b784c3d5-8126-4a7a-c13b-4935ff6354db"
      },
      "execution_count": 10,
      "outputs": [
        {
          "output_type": "stream",
          "name": "stdout",
          "text": [
            "Number of graphs in the dataset: 1\n",
            "Number of features per node: 165\n",
            "Number of classes: 2\n",
            "\n",
            "Graph Data:\n",
            "Node feature matrix shape: torch.Size([203769, 165])\n",
            "Edge index shape: torch.Size([2, 234355])\n",
            "Label shape: torch.Size([203769])\n",
            "Number of nodes: 203769\n",
            "Number of edges: 234355\n",
            "Graph is directed: True\n",
            "\n",
            "Sample Features and Labels:\n",
            "First node features: tensor([-1.7147e-01, -1.8467e-01, -1.2014e+00, -1.2197e-01, -4.3875e-02,\n",
            "        -1.1300e-01, -6.1584e-02, -1.6210e-01, -1.6793e-01, -4.9707e-02,\n",
            "        -1.6440e-01, -2.8741e-02, -3.5391e-02, -4.2955e-02, -1.3282e-02,\n",
            "        -5.7195e-02, -1.6961e-01, -1.7115e-01, -1.7447e-01, -1.3737e+00,\n",
            "        -1.3715e+00, -1.3973e-01, -1.4891e-01, -8.0147e-02, -1.5566e-01,\n",
            "        -1.0763e-02, -1.2107e-02, -1.3973e-01, -1.4891e-01, -8.0147e-02,\n",
            "        -1.5566e-01, -1.0669e-02, -1.2005e-02, -2.4669e-02, -3.1272e-02,\n",
            "        -2.3045e-02, -2.6215e-02,  1.4278e-03,  1.4826e-03, -2.2722e-01,\n",
            "        -2.3937e-01, -7.5256e-02, -2.3495e-01,  3.7468e-02,  4.3444e-02,\n",
            "        -2.2720e-01, -2.4324e-01, -9.7895e-02, -2.3590e-01,  3.6577e-02,\n",
            "         4.2345e-02, -4.1401e-01, -4.8834e-01, -2.3255e-01, -4.6755e-01,\n",
            "         4.8767e-02,  5.2956e-02, -3.9149e-02, -1.7290e-01, -1.6313e-01,\n",
            "        -1.6093e-01, -1.3163e+00, -1.3154e+00, -3.9144e-02, -1.7288e-01,\n",
            "        -1.6311e-01, -1.6093e-01, -1.3163e+00, -1.3154e+00, -1.7032e-02,\n",
            "        -3.0026e-02, -1.7640e-02, -1.5071e-02, -1.4076e-01, -1.4033e-01,\n",
            "        -9.5403e-02, -2.6438e-01, -2.5052e-01, -2.6370e-01,  1.1335e+00,\n",
            "         1.1359e+00, -5.9013e-02, -2.6237e-01, -2.5511e-01, -2.5919e-01,\n",
            "         1.1256e+00,  1.1280e+00, -2.9377e-01, -1.5973e-01,  3.4039e-02,\n",
            "        -1.8382e-01,  1.1355e+00,  1.1353e+00, -1.6916e-01, -2.0158e-01,\n",
            "        -1.1682e-01, -1.9147e-01, -1.4659e-02, -1.8849e-02, -1.4580e+00,\n",
            "        -1.4941e+00, -8.3459e-02, -1.4860e+00, -8.8798e-02, -9.0437e-02,\n",
            "        -1.6655e-01, -2.1654e-01, -1.3455e-01, -1.9482e-01, -3.1750e-03,\n",
            "        -4.0941e-03, -1.0963e+00, -1.2673e+00, -3.4993e-01, -1.2304e+00,\n",
            "        -4.3576e-03, -4.1944e-03, -1.1642e-01, -1.7662e-01, -1.3732e-01,\n",
            "        -1.5246e-01, -2.6060e-02, -2.7660e-02, -9.3145e-02, -1.4371e-01,\n",
            "        -9.7719e-02, -1.2746e-01,  3.1433e-03,  2.4263e-03, -1.2095e-01,\n",
            "        -1.9914e-01, -1.8799e-01, -2.1295e-01,  1.0642e+00,  1.0638e+00,\n",
            "        -1.3738e+00, -1.3547e+00, -2.9798e-01, -1.4037e+00,  1.3420e+00,\n",
            "         1.3407e+00, -1.7160e-01, -4.5816e-01, -4.2359e-01, -4.4088e-01,\n",
            "        -1.0160e+00, -1.0162e+00, -9.6890e-01, -3.7571e-01,  7.5975e-01,\n",
            "        -7.6833e-01,  1.4881e+00,  1.4879e+00, -2.1681e-01, -6.0563e-01,\n",
            "        -5.6215e-01, -6.0100e-01,  1.4613e+00,  1.4614e+00,  1.8279e-02,\n",
            "        -8.7490e-02, -1.3116e-01, -9.7524e-02, -1.2061e-01, -1.1979e-01])\n",
            "Edge indices: tensor([[0, 2, 4, 6, 8],\n",
            "        [1, 3, 5, 7, 9]])\n",
            "First 5 node labels: tensor([2, 2, 2, 0, 2])\n"
          ]
        }
      ]
    },
    {
      "cell_type": "markdown",
      "source": [
        "---\n",
        "<a name = Section5></a>\n",
        "# **5. Data Preprocessing**\n",
        "---"
      ],
      "metadata": {
        "id": "jOZzvhNG_VkC"
      }
    },
    {
      "cell_type": "markdown",
      "source": [
        "**Merging node features DF with classes DF**"
      ],
      "metadata": {
        "id": "iS0XJD1uBapq"
      }
    },
    {
      "cell_type": "code",
      "source": [
        "df_merge = df_features.merge(df_classes, how='left', right_on=\"txId\", left_on=0)\n",
        "df_merge = df_merge.sort_values(0).reset_index(drop=True)"
      ],
      "metadata": {
        "id": "OldbQUvIBh-s"
      },
      "execution_count": 11,
      "outputs": []
    },
    {
      "cell_type": "markdown",
      "source": [
        "**Extracting classified/non-classified nodes**\n"
      ],
      "metadata": {
        "id": "c-7DFnTPBlN0"
      }
    },
    {
      "cell_type": "code",
      "source": [
        "classified = df_merge.loc[df_merge['class'].loc[df_merge['class']!=2].index].drop('txId', axis=1)\n",
        "unclassified = df_merge.loc[df_merge['class'].loc[df_merge['class']==2].index].drop('txId', axis=1)"
      ],
      "metadata": {
        "id": "ZqkN5TeCBkMb"
      },
      "execution_count": 12,
      "outputs": []
    },
    {
      "cell_type": "markdown",
      "source": [
        "**Extracting classified/non-classified edges**\n"
      ],
      "metadata": {
        "id": "UDLypEFJBuR3"
      }
    },
    {
      "cell_type": "code",
      "source": [
        "classified_edges = df_edges.loc[df_edges['txId1'].isin(classified[0]) & df_edges['txId2'].isin(classified[0])]\n",
        "unclassifed_edges = df_edges.loc[df_edges['txId1'].isin(unclassified[0]) | df_edges['txId2'].isin(unclassified[0])]"
      ],
      "metadata": {
        "id": "Gvt-zpqZlW3n"
      },
      "execution_count": 13,
      "outputs": []
    },
    {
      "cell_type": "markdown",
      "source": [
        "**Preparing Edges**"
      ],
      "metadata": {
        "id": "S1EJip0aCj-B"
      }
    },
    {
      "cell_type": "code",
      "source": [
        "# mapping nodes to indices\n",
        "nodes = df_merge[0].values\n",
        "map_id = {j:i for i,j in enumerate(nodes)}\n",
        "\n",
        "# mapping edges to indices\n",
        "edges = df_edges.copy()\n",
        "edges.txId1 = edges.txId1.map(map_id)\n",
        "edges.txId2 = edges.txId2.map(map_id)\n",
        "edges = edges.astype(int)\n",
        "\n",
        "edge_index = np.array(edges.values).T\n",
        "edge_index = torch.tensor(edge_index, dtype=torch.long).contiguous()\n",
        "\n",
        "# weights for the edges are equal in case of model without attention\n",
        "weights = torch.tensor([1] * edge_index.shape[1] , dtype=torch.float32)\n",
        "\n",
        "print(\"Total amount of edges in DAG:\", edge_index.shape)"
      ],
      "metadata": {
        "colab": {
          "base_uri": "https://localhost:8080/"
        },
        "id": "w3BFR3yPCu5i",
        "outputId": "3cf77ba4-7d39-4234-d862-edaf398e0b5b"
      },
      "execution_count": 14,
      "outputs": [
        {
          "output_type": "stream",
          "name": "stdout",
          "text": [
            "Total amount of edges in DAG: torch.Size([2, 234355])\n"
          ]
        }
      ]
    },
    {
      "cell_type": "markdown",
      "source": [
        "**Preparing Nodes**\n",
        "- Let’s ignore the temporal axis and consider the static case of fraud detection.\n"
      ],
      "metadata": {
        "id": "m3VueoyzC1HP"
      }
    },
    {
      "cell_type": "code",
      "source": [
        "# maping node ids to corresponding indexes\n",
        "node_features = df_merge.drop(['txId'], axis=1).copy()\n",
        "node_features[0] = node_features[0].map(map_id)\n",
        "\n",
        "classified_idx = node_features['class'].loc[node_features['class']!=2].index\n",
        "unclassified_idx = node_features['class'].loc[node_features['class']==2].index\n",
        "\n",
        "# replace unkown class with 0, to avoid having 3 classes, this data/labels never used in training\n",
        "node_features['class'] = node_features['class'].replace(2, 0)\n",
        "\n",
        "labels = node_features['class'].values\n",
        "\n",
        "# drop indeces, class and temporal axes\n",
        "node_features = torch.tensor(np.array(node_features.drop([0, 'class', 1], axis=1).values, dtype=np.float32), dtype=torch.float32)"
      ],
      "metadata": {
        "id": "RaoA78M_CmhS"
      },
      "execution_count": 15,
      "outputs": []
    },
    {
      "cell_type": "markdown",
      "source": [
        "**Converting data to Pygeometric graph data formatt**\n"
      ],
      "metadata": {
        "id": "i6q2z1AjS0wG"
      }
    },
    {
      "cell_type": "code",
      "source": [
        "elliptic_dataset = Data(x = node_features,\n",
        "                        edge_index = edge_index,\n",
        "                        edge_attr = weights,\n",
        "                        y = torch.tensor(labels, dtype=torch.float32))\n",
        "\n",
        "print(f'Number of nodes: {elliptic_dataset.num_nodes}')\n",
        "print(f'Number of node features: {elliptic_dataset.num_features}')\n",
        "print(f'Number of edges: {elliptic_dataset.num_edges}')\n",
        "print(f'Number of edge features: {elliptic_dataset.num_features}')\n",
        "print(f'Average node degree: {elliptic_dataset.num_edges / elliptic_dataset.num_nodes:.2f}')\n",
        "print(f'Number of classes: {len(np.unique(elliptic_dataset.y))}')\n",
        "print(f'Has isolated nodes: {elliptic_dataset.has_isolated_nodes()}')\n",
        "print(f'Has self loops: {elliptic_dataset.has_self_loops()}')\n",
        "print(f'Is directed: {elliptic_dataset.is_directed()}')"
      ],
      "metadata": {
        "colab": {
          "base_uri": "https://localhost:8080/"
        },
        "id": "8SI_fd1VS8EK",
        "outputId": "08f92df4-8b23-4714-8058-e37877bd55c3"
      },
      "execution_count": 16,
      "outputs": [
        {
          "output_type": "stream",
          "name": "stdout",
          "text": [
            "Number of nodes: 203769\n",
            "Number of node features: 165\n",
            "Number of edges: 234355\n",
            "Number of edge features: 165\n",
            "Average node degree: 1.15\n",
            "Number of classes: 2\n",
            "Has isolated nodes: False\n",
            "Has self loops: False\n",
            "Is directed: True\n"
          ]
        }
      ]
    },
    {
      "cell_type": "code",
      "source": [
        "class Config:\n",
        "    seed = 0\n",
        "    learning_rate = 0.001\n",
        "    weight_decay = 1e-5\n",
        "    input_dim = 165\n",
        "    output_dim = 1\n",
        "    hidden_size = 128\n",
        "    num_epochs = 100\n",
        "    checkpoints_dir = './models/elliptic_gnn'\n",
        "    device = torch.device('cuda' if torch.cuda.is_available() else 'cpu')\n",
        "\n",
        "print(\"Using device:\", Config.device)"
      ],
      "metadata": {
        "colab": {
          "base_uri": "https://localhost:8080/"
        },
        "id": "74Ln6q3DUB7w",
        "outputId": "b02981bc-bbb8-49dc-cd99-718f233cb749"
      },
      "execution_count": 17,
      "outputs": [
        {
          "output_type": "stream",
          "name": "stdout",
          "text": [
            "Using device: cuda\n"
          ]
        }
      ]
    },
    {
      "cell_type": "code",
      "source": [
        "# Splitting train and validation dataset\n",
        "y_train = labels[classified_idx]\n",
        "\n",
        "# spliting train set and validation set\n",
        "_, _, _, _, train_idx, valid_idx = \\\n",
        "    train_test_split(node_features[classified_idx],\n",
        "                     y_train,\n",
        "                     classified_idx,\n",
        "                     test_size=0.15,\n",
        "                     random_state=Config.seed,\n",
        "                     stratify=y_train)\n",
        "\n",
        "elliptic_dataset.train_idx = torch.tensor(train_idx, dtype=torch.long)\n",
        "elliptic_dataset.val_idx = torch.tensor(valid_idx, dtype=torch.long)\n",
        "elliptic_dataset.test_idx = torch.tensor(unclassified_idx, dtype=torch.long)\n",
        "\n",
        "print(\"Train dataset size:\", elliptic_dataset.train_idx.shape[0])\n",
        "print(\"Validation dataset size:\", elliptic_dataset.val_idx.shape[0])\n",
        "print(\"Test dataset size:\", elliptic_dataset.test_idx.shape[0])"
      ],
      "metadata": {
        "colab": {
          "base_uri": "https://localhost:8080/"
        },
        "id": "ATYpTdM4TqzR",
        "outputId": "30660ba4-75b4-480f-fea1-b22f78207d89"
      },
      "execution_count": 19,
      "outputs": [
        {
          "output_type": "stream",
          "name": "stdout",
          "text": [
            "Train dataset size: 39579\n",
            "Validation dataset size: 6985\n",
            "Test dataset size: 157205\n"
          ]
        }
      ]
    },
    {
      "cell_type": "markdown",
      "source": [
        "---\n",
        "<a name = Section6></a>\n",
        "# **6. Model the Data**\n",
        "---"
      ],
      "metadata": {
        "id": "rBnrcsuBUKSl"
      }
    },
    {
      "cell_type": "code",
      "source": [
        "class GCN(torch.nn.Module):\n",
        "    \"\"\"Graph Convolutional Network\"\"\"\n",
        "    def __init__(self, dim_in, dim_h, dim_out):\n",
        "        super(GCN, self).__init__()\n",
        "\n",
        "        self.gcn1 = GCNConv(dim_in, dim_h)\n",
        "        self.gcn2 = GCNConv(dim_h, dim_out)\n",
        "\n",
        "    def forward(self, x, edge_index):\n",
        "        h = self.gcn1(x, edge_index)\n",
        "        h = torch.relu(h)\n",
        "        h = F.dropout(h, p=0.6, training=self.training)\n",
        "        out = self.gcn2(h, edge_index)\n",
        "        return out\n",
        "\n",
        "class GAT(torch.nn.Module):\n",
        "    \"\"\"Graph Attention Network\"\"\"\n",
        "    def __init__(self, dim_in, dim_h, dim_out, heads=8):\n",
        "        super(GAT, self).__init__()\n",
        "        self.gat1 = GATv2Conv(dim_in, dim_h, heads=heads, dropout=0.6)\n",
        "        self.gat2 = GATv2Conv(dim_h*heads, dim_out, concat=False, heads=1, dropout=0.6)\n",
        "\n",
        "    def forward(self, x, edge_index):\n",
        "        h = F.dropout(x, p=0.6, training=self.training)\n",
        "        h = self.gat1(h, edge_index)\n",
        "        h = F.elu(h)\n",
        "        h = F.dropout(h, p=0.6, training=self.training)\n",
        "        out = self.gat2(h, edge_index)\n",
        "        return out\n",
        "\n",
        "def accuracy(y_pred, y_test, prediction_threshold=0.5):\n",
        "    y_pred_label = (torch.sigmoid(y_pred) > prediction_threshold).float()*1\n",
        "\n",
        "    correct_results_sum = (y_pred_label == y_test).sum().float()\n",
        "    acc = correct_results_sum/y_test.shape[0]\n",
        "\n",
        "    return acc"
      ],
      "metadata": {
        "id": "Mld1DX4nUD3Y"
      },
      "execution_count": 18,
      "outputs": []
    },
    {
      "cell_type": "markdown",
      "source": [
        "##Train-test helpers"
      ],
      "metadata": {
        "id": "dfWSXw8TUZLB"
      }
    },
    {
      "cell_type": "code",
      "source": [
        "def train_evaluate(model, data, criterion, optimizer, *args):\n",
        "    num_epochs = args[0]\n",
        "    checkpoints_dir = args[1]\n",
        "    model_filename = args[2]\n",
        "\n",
        "    best_model_wts = copy.deepcopy(model.state_dict())\n",
        "\n",
        "    best_loss = 10e10\n",
        "\n",
        "    if not os.path.exists(checkpoints_dir):\n",
        "        os.makedirs(checkpoints_dir)\n",
        "\n",
        "    model.train()\n",
        "    for epoch in range(num_epochs+1):\n",
        "        # Training\n",
        "        optimizer.zero_grad()\n",
        "        out = model(data.x, data.edge_index)\n",
        "        loss = criterion(out[data.train_idx], data.y[data.train_idx].unsqueeze(1))\n",
        "        acc = accuracy(out[data.train_idx], data.y[data.train_idx].unsqueeze(1), prediction_threshold=0.5)\n",
        "        loss.backward()\n",
        "        optimizer.step()\n",
        "\n",
        "        # Validation\n",
        "        val_loss = criterion(out[data.val_idx], data.y[data.val_idx].unsqueeze(1))\n",
        "        val_acc = accuracy(out[data.val_idx], data.y[data.val_idx].unsqueeze(1), prediction_threshold=0.5)\n",
        "\n",
        "        if(epoch % 10 == 0):\n",
        "            print(f'Epoch {epoch:>3} | Train Loss: {loss:.3f} | Train Acc: '\n",
        "                  f'{acc*100:>6.2f}% | Val Loss: {val_loss:.2f} | '\n",
        "                  f'Val Acc: {val_acc*100:.2f}%')\n",
        "\n",
        "            if val_loss < best_loss:\n",
        "                best_loss = val_loss\n",
        "                print(\"Saving model for best loss\")\n",
        "                checkpoint = {\n",
        "                    'state_dict': best_model_wts\n",
        "                }\n",
        "                torch.save(checkpoint, os.path.join(checkpoints_dir, model_filename))\n",
        "                best_model_wts = copy.deepcopy(model.state_dict())\n",
        "\n",
        "    return model\n",
        "\n",
        "def test(model, data):\n",
        "    model.eval()\n",
        "    out = model(data.x, data.edge_index)\n",
        "    preds = ((torch.sigmoid(out) > 0.5).float()*1).squeeze(1)\n",
        "    return preds"
      ],
      "metadata": {
        "id": "NVNWaooEUX0y"
      },
      "execution_count": 20,
      "outputs": []
    },
    {
      "cell_type": "markdown",
      "source": [
        "##Train GCN"
      ],
      "metadata": {
        "id": "azYbLhxWUhn2"
      }
    },
    {
      "cell_type": "code",
      "source": [
        "gcn_model = GCN(Config.input_dim, Config.hidden_size, Config.output_dim).to(Config.device)\n",
        "data_train = elliptic_dataset.to(Config.device)\n",
        "\n",
        "optimizer = torch.optim.Adam(gcn_model.parameters(), lr=Config.learning_rate, weight_decay=Config.weight_decay)\n",
        "scheduler = torch.optim.lr_scheduler.ReduceLROnPlateau(optimizer, 'min')\n",
        "criterion = torch.nn.BCEWithLogitsLoss()\n",
        "\n",
        "train_evaluate(gcn_model,\n",
        "              data_train,\n",
        "              criterion,\n",
        "              optimizer,\n",
        "              Config.num_epochs,\n",
        "              Config.checkpoints_dir,\n",
        "              'gcn_best_model.pth.tar')"
      ],
      "metadata": {
        "colab": {
          "base_uri": "https://localhost:8080/"
        },
        "id": "BWct5msJUj-H",
        "outputId": "0f94acce-ed4b-4dab-8f3b-e7303a6b8f1c"
      },
      "execution_count": 31,
      "outputs": [
        {
          "output_type": "stream",
          "name": "stdout",
          "text": [
            "Epoch   0 | Train Loss: 0.695 | Train Acc:  64.24% | Val Loss: 0.70 | Val Acc: 63.92%\n",
            "Saving model for best loss\n",
            "Epoch  10 | Train Loss: 0.299 | Train Acc:  87.63% | Val Loss: 0.30 | Val Acc: 87.33%\n",
            "Saving model for best loss\n",
            "Epoch  20 | Train Loss: 0.254 | Train Acc:  90.08% | Val Loss: 0.25 | Val Acc: 89.66%\n",
            "Saving model for best loss\n",
            "Epoch  30 | Train Loss: 0.240 | Train Acc:  90.89% | Val Loss: 0.24 | Val Acc: 91.04%\n",
            "Saving model for best loss\n",
            "Epoch  40 | Train Loss: 0.230 | Train Acc:  91.47% | Val Loss: 0.23 | Val Acc: 91.31%\n",
            "Saving model for best loss\n",
            "Epoch  50 | Train Loss: 0.217 | Train Acc:  92.06% | Val Loss: 0.22 | Val Acc: 91.85%\n",
            "Saving model for best loss\n",
            "Epoch  60 | Train Loss: 0.210 | Train Acc:  92.36% | Val Loss: 0.21 | Val Acc: 92.15%\n",
            "Saving model for best loss\n",
            "Epoch  70 | Train Loss: 0.205 | Train Acc:  92.62% | Val Loss: 0.21 | Val Acc: 92.51%\n",
            "Saving model for best loss\n",
            "Epoch  80 | Train Loss: 0.202 | Train Acc:  92.79% | Val Loss: 0.20 | Val Acc: 92.93%\n",
            "Saving model for best loss\n",
            "Epoch  90 | Train Loss: 0.195 | Train Acc:  93.08% | Val Loss: 0.20 | Val Acc: 92.97%\n",
            "Saving model for best loss\n",
            "Epoch 100 | Train Loss: 0.191 | Train Acc:  93.27% | Val Loss: 0.20 | Val Acc: 93.16%\n",
            "Saving model for best loss\n"
          ]
        },
        {
          "output_type": "execute_result",
          "data": {
            "text/plain": [
              "GCN(\n",
              "  (gcn1): GCNConv(165, 128)\n",
              "  (gcn2): GCNConv(128, 1)\n",
              ")"
            ]
          },
          "metadata": {},
          "execution_count": 31
        }
      ]
    },
    {
      "cell_type": "markdown",
      "source": [
        "##Test GCN"
      ],
      "metadata": {
        "id": "Kn2oasxwWY6F"
      }
    },
    {
      "cell_type": "code",
      "source": [
        "gcn_model.load_state_dict(torch.load(os.path.join(Config.checkpoints_dir, 'gcn_best_model.pth.tar'))['state_dict'])\n",
        "\n",
        "y_test_preds = test(gcn_model, data_train)\n",
        "\n",
        "# confusion matrix on validation data\n",
        "conf_mat = confusion_matrix(data_train.y[data_train.val_idx].detach().cpu().numpy(), y_test_preds[valid_idx].cpu().numpy())\n",
        "\n",
        "plt.subplots(figsize=(6,6))\n",
        "sns.set(font_scale=1.4)\n",
        "sns.heatmap(conf_mat, annot=True, fmt=\".0f\", annot_kws={\"size\": 16}, cbar=False)\n",
        "plt.xlabel('Target (true) Class'); plt.ylabel('Output (predicted) class'); plt.title('Confusion Matrix')\n",
        "plt.show();\n",
        "\n",
        "print(classification_report(data_train.y[data_train.val_idx].detach().cpu().numpy(),\n",
        "                            y_test_preds[valid_idx].cpu().numpy(),\n",
        "                            target_names=['licit', 'illicit']))\n",
        "\n",
        "\n",
        "print(f\"Test data fraud cases, percentage: {y_test_preds[data_train.test_idx].detach().cpu().numpy().sum() / len(data_train.y[data_train.test_idx]) *100} %\")"
      ],
      "metadata": {
        "colab": {
          "base_uri": "https://localhost:8080/",
          "height": 821
        },
        "id": "9myQvAqsWcX0",
        "outputId": "3b72ef24-11cc-4faa-aa47-a6f6d56e2753"
      },
      "execution_count": 35,
      "outputs": [
        {
          "output_type": "stream",
          "name": "stderr",
          "text": [
            "<ipython-input-35-be1011325d99>:1: FutureWarning: You are using `torch.load` with `weights_only=False` (the current default value), which uses the default pickle module implicitly. It is possible to construct malicious pickle data which will execute arbitrary code during unpickling (See https://github.com/pytorch/pytorch/blob/main/SECURITY.md#untrusted-models for more details). In a future release, the default value for `weights_only` will be flipped to `True`. This limits the functions that could be executed during unpickling. Arbitrary objects will no longer be allowed to be loaded via this mode unless they are explicitly allowlisted by the user via `torch.serialization.add_safe_globals`. We recommend you start setting `weights_only=True` for any use case where you don't have full control of the loaded file. Please open an issue on GitHub for any issues related to this experimental feature.\n",
            "  gcn_model.load_state_dict(torch.load(os.path.join(Config.checkpoints_dir, 'gcn_best_model.pth.tar'))['state_dict'])\n"
          ]
        },
        {
          "output_type": "display_data",
          "data": {
            "text/plain": [
              "<Figure size 600x600 with 1 Axes>"
            ],
            "image/png": "[encoded data removed]"
          },
          "metadata": {}
        },
        {
          "output_type": "stream",
          "name": "stdout",
          "text": [
            "              precision    recall  f1-score   support\n",
            "\n",
            "       licit       0.94      0.99      0.97      6303\n",
            "     illicit       0.82      0.45      0.58       682\n",
            "\n",
            "    accuracy                           0.94      6985\n",
            "   macro avg       0.88      0.72      0.77      6985\n",
            "weighted avg       0.93      0.94      0.93      6985\n",
            "\n",
            "Test data fraud cases, percentage: 6.457173754015458 %\n"
          ]
        }
      ]
    },
    {
      "cell_type": "markdown",
      "source": [
        "## Train GAT"
      ],
      "metadata": {
        "id": "tJlIVUjgWi5J"
      }
    },
    {
      "cell_type": "code",
      "source": [
        "gat_model = GAT(Config.input_dim, Config.hidden_size, Config.output_dim).to(Config.device)\n",
        "data_train = elliptic_dataset.to(Config.device)\n",
        "\n",
        "optimizer = torch.optim.Adam(gat_model.parameters(), lr=Config.learning_rate, weight_decay=Config.weight_decay)\n",
        "scheduler = torch.optim.lr_scheduler.ReduceLROnPlateau(optimizer, 'min')\n",
        "criterion = torch.nn.BCEWithLogitsLoss()\n",
        "\n",
        "train_evaluate(gat_model,\n",
        "               data_train,\n",
        "               criterion,\n",
        "               optimizer,\n",
        "               Config.num_epochs,\n",
        "               Config.checkpoints_dir,\n",
        "               'gat_best_model.pth.tar')"
      ],
      "metadata": {
        "colab": {
          "base_uri": "https://localhost:8080/"
        },
        "id": "_uSEukzOWlUW",
        "outputId": "cd12fa71-a6a2-404c-a9ae-c493beff08d2"
      },
      "execution_count": 21,
      "outputs": [
        {
          "output_type": "stream",
          "name": "stdout",
          "text": [
            "Epoch   0 | Train Loss: 1.660 | Train Acc:  65.18% | Val Loss: 1.55 | Val Acc: 65.21%\n",
            "Saving model for best loss\n",
            "Epoch  10 | Train Loss: 0.515 | Train Acc:  88.31% | Val Loss: 0.51 | Val Acc: 88.38%\n",
            "Saving model for best loss\n",
            "Epoch  20 | Train Loss: 0.502 | Train Acc:  90.04% | Val Loss: 0.50 | Val Acc: 90.04%\n",
            "Saving model for best loss\n",
            "Epoch  30 | Train Loss: 0.473 | Train Acc:  90.20% | Val Loss: 0.49 | Val Acc: 89.88%\n",
            "Saving model for best loss\n",
            "Epoch  40 | Train Loss: 0.459 | Train Acc:  90.22% | Val Loss: 0.46 | Val Acc: 89.98%\n",
            "Saving model for best loss\n",
            "Epoch  50 | Train Loss: 0.445 | Train Acc:  90.38% | Val Loss: 0.43 | Val Acc: 90.26%\n",
            "Saving model for best loss\n",
            "Epoch  60 | Train Loss: 0.447 | Train Acc:  90.33% | Val Loss: 0.44 | Val Acc: 90.29%\n",
            "Epoch  70 | Train Loss: 0.432 | Train Acc:  90.46% | Val Loss: 0.44 | Val Acc: 90.42%\n",
            "Epoch  80 | Train Loss: 0.425 | Train Acc:  90.51% | Val Loss: 0.42 | Val Acc: 90.67%\n",
            "Saving model for best loss\n",
            "Epoch  90 | Train Loss: 0.428 | Train Acc:  90.77% | Val Loss: 0.42 | Val Acc: 90.72%\n",
            "Saving model for best loss\n",
            "Epoch 100 | Train Loss: 0.417 | Train Acc:  90.65% | Val Loss: 0.42 | Val Acc: 90.61%\n"
          ]
        },
        {
          "output_type": "execute_result",
          "data": {
            "text/plain": [
              "GAT(\n",
              "  (gat1): GATv2Conv(165, 128, heads=8)\n",
              "  (gat2): GATv2Conv(1024, 1, heads=1)\n",
              ")"
            ]
          },
          "metadata": {},
          "execution_count": 21
        }
      ]
    },
    {
      "cell_type": "markdown",
      "source": [
        "## Inference"
      ],
      "metadata": {
        "id": "vwxJ66lUeFTT"
      }
    },
    {
      "cell_type": "code",
      "source": [
        "gat_model.load_state_dict(torch.load(os.path.join(Config.checkpoints_dir, 'gat_best_model.pth.tar'))['state_dict'])\n",
        "\n",
        "y_test_preds = test(gat_model, data_train)\n",
        "\n",
        "# confusion matrix on validation data\n",
        "conf_mat = confusion_matrix(data_train.y[data_train.val_idx].detach().cpu().numpy(), y_test_preds[valid_idx].cpu().numpy())\n",
        "\n",
        "plt.subplots(figsize=(6,6))\n",
        "sns.set(font_scale=1.4)\n",
        "sns.heatmap(conf_mat, annot=True, fmt=\".0f\", annot_kws={\"size\": 16}, cbar=False)\n",
        "plt.xlabel('Target (true) Class'); plt.ylabel('Output (predicted) class'); plt.title('Confusion Matrix')\n",
        "plt.show();\n",
        "\n",
        "print(classification_report(data_train.y[data_train.val_idx].detach().cpu().numpy(),\n",
        "                            y_test_preds[valid_idx].cpu().numpy(),\n",
        "                            target_names=['licit', 'illicit']))\n",
        "\n",
        "\n",
        "print(f\"Test data fraud cases, percentage: {y_test_preds[data_train.test_idx].detach().cpu().numpy().sum() / len(data_train.y[data_train.test_idx]) *100} %\")"
      ],
      "metadata": {
        "colab": {
          "base_uri": "https://localhost:8080/",
          "height": 821
        },
        "id": "3v3VabL6WnRj",
        "outputId": "951d6dc5-7a29-4e17-a965-0d616977af65"
      },
      "execution_count": 26,
      "outputs": [
        {
          "output_type": "stream",
          "name": "stderr",
          "text": [
            "<ipython-input-26-013d352d5ac8>:1: FutureWarning: You are using `torch.load` with `weights_only=False` (the current default value), which uses the default pickle module implicitly. It is possible to construct malicious pickle data which will execute arbitrary code during unpickling (See https://github.com/pytorch/pytorch/blob/main/SECURITY.md#untrusted-models for more details). In a future release, the default value for `weights_only` will be flipped to `True`. This limits the functions that could be executed during unpickling. Arbitrary objects will no longer be allowed to be loaded via this mode unless they are explicitly allowlisted by the user via `torch.serialization.add_safe_globals`. We recommend you start setting `weights_only=True` for any use case where you don't have full control of the loaded file. Please open an issue on GitHub for any issues related to this experimental feature.\n",
            "  gat_model.load_state_dict(torch.load(os.path.join(Config.checkpoints_dir, 'gat_best_model.pth.tar'))['state_dict'])\n"
          ]
        },
        {
          "output_type": "display_data",
          "data": {
            "text/plain": [
              "<Figure size 600x600 with 1 Axes>"
            ],
            "image/png": "[encoded data removed]"
          },
          "metadata": {}
        },
        {
          "output_type": "stream",
          "name": "stdout",
          "text": [
            "              precision    recall  f1-score   support\n",
            "\n",
            "       licit       0.97      0.97      0.97      6303\n",
            "     illicit       0.73      0.68      0.70       682\n",
            "\n",
            "    accuracy                           0.94      6985\n",
            "   macro avg       0.85      0.83      0.84      6985\n",
            "weighted avg       0.94      0.94      0.94      6985\n",
            "\n",
            "Test data fraud cases, percentage: 14.034540886104132 %\n"
          ]
        }
      ]
    },
    {
      "cell_type": "markdown",
      "source": [
        "---\n",
        "<a name = Section7></a>\n",
        "# **7. Sumarization**\n",
        "\n",
        "---\n",
        "**Objective**\n",
        "- The project focuses on detecting fraudulent activities in cryptocurrency transactions using Graph Neural Networks (GNNs), specifically Graph Convolutional Networks (GCNs) and Graph Attention Networks (GATs).\n",
        "\n",
        "**Dataset**\n",
        "- The Elliptic Bitcoin Dataset is used, representing Bitcoin transactions as a graph where nodes are transactions, and edges represent the flow of Bitcoin between them. Each node has 166 features and is labeled as either licit, illicit, or unknown.\n",
        "\n",
        "**Preprocessing**\n",
        "- Node and edge features are extracted, and the graph data is processed into PyTorch Geometric format. The dataset is split into training, validation, and test sets.\n",
        "\n",
        "**Models**:\n",
        "- **GCN (Graph Convolutional Network)**: A two-layer GCN is implemented to perform semi-supervised classification of licit and illicit transactions.\n",
        "- **GAT (Graph Attention Network)**: A two-layer GAT is used to capture more complex relationships by applying attention mechanisms on the graph's edges.\n",
        "Training & Evaluation: Both models are trained using the Binary Cross Entropy Loss function and Adam optimizer, with accuracy and recall as key metrics. Validation and testing are performed using labeled data, with unlabelled data used to assess generalization.\n",
        "\n",
        "**Results**:\n",
        "- The GAT model converges slower than GCN but provides a higher recall for fraud detection (improving from 0.45 to 0.67).\n",
        "- On unlabelled data, the GCN model detects 6% fraud cases, while GAT identifies about 18% fraud cases, showing GAT's stricter approach to identifying fraudulent transactions."
      ],
      "metadata": {
        "id": "x2USQFr6b9sr"
      }
    }
  ]
}